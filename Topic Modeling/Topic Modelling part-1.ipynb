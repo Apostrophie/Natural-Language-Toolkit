{
 "cells": [
  {
   "cell_type": "markdown",
   "metadata": {},
   "source": [
    "# Topic Modelling\n",
    "\n",
    "It is different from rule-based text mining approaches that use regular expressions or dictionary based keyword searching techniques. It is an unsupervised approach used for finding and observing the bunch of words in large clusters of texts.\n",
    "\n",
    "Topic Models are very useful for the purpose for document clustering, organizing large blocks of textual data, information retrieval from unstructured text and feature selection."
   ]
  },
  {
   "cell_type": "markdown",
   "metadata": {},
   "source": [
    "#### Tasks to perform \n",
    "- Preparing documents\n",
    "- Cleaning and Preprocessing\n",
    "- Preparing document term matrix\n",
    "- Running LDA(Latent Dirichlet Allocation) model\n",
    "- Improve results\n"
   ]
  },
  {
   "cell_type": "markdown",
   "metadata": {},
   "source": [
    "## Preparing documents\n",
    "\n",
    "Passage is taken from https://www.learncbse.in/unseen-passage-for-class-7/"
   ]
  },
  {
   "cell_type": "code",
   "execution_count": 1,
   "metadata": {},
   "outputs": [],
   "source": [
    "doc1=\"Our ancestors had great difficulty in getting books. Now, our difficulty is what to read. There are books and books but our hours of reading are very few.\"\n",
    "doc2=\"Therefore, choice becomes essential. We should be very careful about what we read. There are books which poison our lives by suggesting evils. We should keep them at arm’s length.\"\n",
    "doc3=\"We should read only those books which have stood the test of time. Such books are our great classics like the Ramayana and the Gita. \"\n",
    "doc4=\"They contain the wisdom of our sages and saints. They have appealed mankind from generation to generation.\"\n",
    "doc5=\"Reading of such books has ennobling influence on our mind and character. It gives us spiritual enjoyment. These books give us instruction with entertainment.\"\n",
    "doc6=\"They represent our ancient culture. They set before us high ideals to follow. They are our best friends, best guides and the best treasure.\""
   ]
  },
  {
   "cell_type": "code",
   "execution_count": 2,
   "metadata": {},
   "outputs": [],
   "source": [
    "docs=[doc1,doc2, doc3, doc4, doc5, doc6]"
   ]
  },
  {
   "cell_type": "markdown",
   "metadata": {},
   "source": [
    "## Cleaning and Preprocessing\n",
    "\n",
    "removing punctuations, stopwords, normalizing corpus"
   ]
  },
  {
   "cell_type": "code",
   "execution_count": 3,
   "metadata": {},
   "outputs": [],
   "source": [
    "from nltk.corpus import stopwords\n",
    "from nltk.stem import WordNetLemmatizer, PorterStemmer, LancasterStemmer, SnowballStemmer\n",
    "from nltk.stem import wordnet"
   ]
  },
  {
   "cell_type": "code",
   "execution_count": 31,
   "metadata": {},
   "outputs": [],
   "source": [
    "import re\n",
    "import os"
   ]
  },
  {
   "cell_type": "code",
   "execution_count": 5,
   "metadata": {},
   "outputs": [],
   "source": [
    "import pandas as pd\n",
    "import matplotlib.pyplot as plt"
   ]
  },
  {
   "cell_type": "code",
   "execution_count": 6,
   "metadata": {},
   "outputs": [
    {
     "data": {
      "text/plain": [
       "['i', 'me', 'my', 'myself', 'we', 'our', 'ours', 'ourselves', 'you', \"you're\"]"
      ]
     },
     "execution_count": 6,
     "metadata": {},
     "output_type": "execute_result"
    }
   ],
   "source": [
    "stopwords_list=stopwords.words('english')\n",
    "stopwords_list[:10]"
   ]
  },
  {
   "cell_type": "code",
   "execution_count": 7,
   "metadata": {},
   "outputs": [],
   "source": [
    "lemm = WordNetLemmatizer()\n",
    "stemm = PorterStemmer()\n",
    "stemm_l = LancasterStemmer()\n",
    "stemm_s = SnowballStemmer('english')"
   ]
  },
  {
   "cell_type": "code",
   "execution_count": 8,
   "metadata": {},
   "outputs": [],
   "source": [
    "def porter_clean(doc):\n",
    "    doc=doc.split()\n",
    "    rem_stops = ' '.join(word for word in doc if word.lower() not in stopwords_list)\n",
    "    rem_punc = (re.sub('\\W+', ' ', rem_stops))\n",
    "    #print(rem_punc)\n",
    "    get_stem = ' '.join([stemm.stem(word) for word in rem_punc.split()])\n",
    "    get_lem=' '.join([lemm.lemmatize(word) for word in get_stem.split() if len(word)>=3])\n",
    "    #print(get_lem)\n",
    "    return get_lem"
   ]
  },
  {
   "cell_type": "code",
   "execution_count": 9,
   "metadata": {},
   "outputs": [],
   "source": [
    "clean_doc = [porter_clean(doc) for doc in docs]"
   ]
  },
  {
   "cell_type": "code",
   "execution_count": 10,
   "metadata": {
    "scrolled": true
   },
   "outputs": [
    {
     "data": {
      "text/plain": [
       "['ancestor great difficulti get book now difficulti read book book hour read few',\n",
       " 'therefor choic becom essenti care read book poison live suggest evil keep arm length',\n",
       " 'read book stood test time book great classic like ramayana gita',\n",
       " 'contain wisdom sage saint appeal mankind gener gener',\n",
       " 'read book ennobl influenc mind charact give spiritu enjoy book give instruct entertain',\n",
       " 'repres ancient cultur set high ideal follow best friend best guid best treasur']"
      ]
     },
     "execution_count": 10,
     "metadata": {},
     "output_type": "execute_result"
    }
   ],
   "source": [
    "clean_doc"
   ]
  },
  {
   "cell_type": "code",
   "execution_count": 11,
   "metadata": {},
   "outputs": [],
   "source": [
    "def lancaster_clean(doc):\n",
    "    doc=doc.split()\n",
    "    rem_stops = ' '.join(word for word in doc if word.lower() not in stopwords_list)\n",
    "    rem_punc = (re.sub('\\W+', ' ', rem_stops))\n",
    "    #print(rem_punc)\n",
    "    get_stem = ' '.join([stemm_l.stem(word) for word in rem_punc.split()])\n",
    "    get_lem=' '.join([lemm.lemmatize(word) for word in get_stem.split() if len(word)>=3])\n",
    "    #print(get_lem)\n",
    "    return get_lem"
   ]
  },
  {
   "cell_type": "code",
   "execution_count": 12,
   "metadata": {},
   "outputs": [
    {
     "data": {
      "text/plain": [
       "['ancest gre difficul get book now difficul read book book hour read few',\n",
       " 'theref cho becom es car read book poison liv suggest evil keep arm leng',\n",
       " 'read book stood test tim book gre class lik ramayan git',\n",
       " 'contain wisdom sag saint mankind gen gen',\n",
       " 'read book ennobl influ mind charact giv spirit enjoy book giv instruct entertain',\n",
       " 'repres ant cult set high follow best friend best guid best treas']"
      ]
     },
     "execution_count": 12,
     "metadata": {},
     "output_type": "execute_result"
    }
   ],
   "source": [
    "clean_doc = [lancaster_clean(doc) for doc in docs]\n",
    "clean_doc"
   ]
  },
  {
   "cell_type": "code",
   "execution_count": 13,
   "metadata": {},
   "outputs": [],
   "source": [
    "def clean(doc):\n",
    "    doc=doc.split()\n",
    "    rem_stops = ' '.join(word for word in doc if word.lower() not in stopwords_list)\n",
    "    rem_punc = (re.sub('\\W+', ' ', rem_stops))\n",
    "    #print(rem_punc)\n",
    "    get_lem=' '.join([lemm.lemmatize(word) for word in rem_punc.split()])\n",
    "    #get_stem = ' '.join([stemm_s.stem(word) for word in get_lem.split() if len(word)>=3])\n",
    "    \n",
    "    #print(get_lem)\n",
    "    return get_lem"
   ]
  },
  {
   "cell_type": "code",
   "execution_count": 14,
   "metadata": {},
   "outputs": [
    {
     "data": {
      "text/plain": [
       "['ancestor great difficulty getting book Now difficulty read book book hour reading few',\n",
       " 'Therefore choice becomes essential careful read book poison life suggesting evil keep arm s length',\n",
       " 'read book stood test time book great classic like Ramayana Gita',\n",
       " 'contain wisdom sage saint appealed mankind generation generation',\n",
       " 'Reading book ennobling influence mind character give u spiritual enjoyment book give u instruction entertainment',\n",
       " 'represent ancient culture set u high ideal follow best friend best guide best treasure']"
      ]
     },
     "execution_count": 14,
     "metadata": {},
     "output_type": "execute_result"
    }
   ],
   "source": [
    "clean_doc = [clean(doc) for doc in docs]\n",
    "clean_doc"
   ]
  },
  {
   "cell_type": "code",
   "execution_count": null,
   "metadata": {},
   "outputs": [],
   "source": []
  },
  {
   "cell_type": "markdown",
   "metadata": {},
   "source": [
    "## Preparing Document-Term Matrix\n",
    "\n",
    "To run any mathematical model on text corpus, it is a good practice to convert it into a matrix representation. LDA model looks for repeating term patterns in the entire DT matrix. Python provides many great libraries for text mining practices, “gensim” is one of the clean library to handle text data. It is scalable, robust and efficient."
   ]
  },
  {
   "cell_type": "code",
   "execution_count": 15,
   "metadata": {},
   "outputs": [],
   "source": [
    "import gensim\n",
    "from gensim import corpora, models"
   ]
  },
  {
   "cell_type": "code",
   "execution_count": 16,
   "metadata": {},
   "outputs": [],
   "source": [
    "from gensim.corpora.dictionary import Dictionary\n",
    "from gensim.test.utils import common_texts"
   ]
  },
  {
   "cell_type": "markdown",
   "metadata": {},
   "source": [
    "Steps to follow-\n",
    "- Create list of list of words in the respective documents\n",
    "- Create dictionary from this list of lists using gensim.corpora.dictionary.Dictionary\n",
    "- for each doc(converted to list) run function doc to bag of words. This function is called from the Dictionary created\n",
    "\n"
   ]
  },
  {
   "cell_type": "code",
   "execution_count": 17,
   "metadata": {},
   "outputs": [
    {
     "data": {
      "image/png": "[encoded data removed]",
      "text/plain": [
       "<PIL.JpegImagePlugin.JpegImageFile image mode=RGB size=602x452 at 0x231E5105B00>"
      ]
     },
     "execution_count": 17,
     "metadata": {},
     "output_type": "execute_result"
    }
   ],
   "source": [
    "from PIL import Image\n",
    "Image.open(\"bow.jpg\")"
   ]
  },
  {
   "cell_type": "code",
   "execution_count": 18,
   "metadata": {},
   "outputs": [
    {
     "name": "stdout",
     "output_type": "stream",
     "text": [
      "['ancestor', 'great', 'difficulty', 'getting', 'book', 'Now', 'difficulty', 'read', 'book', 'book', 'hour', 'reading', 'few']\n"
     ]
    }
   ],
   "source": [
    "clean_doc_list = [doc.split() for doc in clean_doc]\n",
    "print(clean_doc_list[0])\n",
    "doc_dict = Dictionary(clean_doc_list)\n",
    "doc_2bow = [doc_dict.doc2bow(doc) for doc in clean_doc_list]"
   ]
  },
  {
   "cell_type": "code",
   "execution_count": 19,
   "metadata": {},
   "outputs": [
    {
     "data": {
      "text/plain": [
       "[(0, 1), (1, 1), (2, 3), (3, 2), (4, 1)]"
      ]
     },
     "execution_count": 19,
     "metadata": {},
     "output_type": "execute_result"
    }
   ],
   "source": [
    "doc_2bow[0][:5]"
   ]
  },
  {
   "cell_type": "markdown",
   "metadata": {},
   "source": [
    "## Running LDA"
   ]
  },
  {
   "cell_type": "code",
   "execution_count": 20,
   "metadata": {},
   "outputs": [],
   "source": [
    "lda = gensim.models.ldamodel.LdaModel(corpus=doc_2bow, num_topics=3, id2word=doc_dict, passes=50)"
   ]
  },
  {
   "cell_type": "code",
   "execution_count": 21,
   "metadata": {},
   "outputs": [
    {
     "data": {
      "text/plain": [
       "array([0.33333334, 0.33333334, 0.33333334], dtype=float32)"
      ]
     },
     "execution_count": 21,
     "metadata": {},
     "output_type": "execute_result"
    }
   ],
   "source": [
    "lda.alpha"
   ]
  },
  {
   "cell_type": "code",
   "execution_count": 22,
   "metadata": {},
   "outputs": [
    {
     "data": {
      "text/plain": [
       "(3, 59)"
      ]
     },
     "execution_count": 22,
     "metadata": {},
     "output_type": "execute_result"
    }
   ],
   "source": [
    "lda.get_topics().shape"
   ]
  },
  {
   "cell_type": "code",
   "execution_count": 23,
   "metadata": {},
   "outputs": [
    {
     "data": {
      "text/plain": [
       "[(0, '0.055*\"u\" + 0.055*\"give\" + 0.055*\"generation\"'),\n",
       " (1, '0.123*\"book\" + 0.054*\"read\" + 0.053*\"difficulty\"'),\n",
       " (2, '0.069*\"best\" + 0.027*\"high\" + 0.027*\"represent\"')]"
      ]
     },
     "execution_count": 23,
     "metadata": {},
     "output_type": "execute_result"
    }
   ],
   "source": [
    "lda.print_topics(num_topics=5, num_words=3)"
   ]
  },
  {
   "cell_type": "markdown",
   "metadata": {},
   "source": [
    "## Improving Topic modeling"
   ]
  },
  {
   "cell_type": "code",
   "execution_count": 24,
   "metadata": {},
   "outputs": [],
   "source": [
    "new_doc_2bow=[]\n",
    "\n",
    "for bow in doc_2bow:\n",
    "    l=[]\n",
    "    for x,y in bow:\n",
    "        if y>1:\n",
    "            #print((x,y))\n",
    "            l.append((x,y))\n",
    "    new_doc_2bow.append(l)"
   ]
  },
  {
   "cell_type": "code",
   "execution_count": 25,
   "metadata": {},
   "outputs": [
    {
     "data": {
      "text/plain": [
       "[[(2, 3), (3, 2)],\n",
       " [],\n",
       " [(2, 2)],\n",
       " [(32, 2)],\n",
       " [(2, 2), (42, 2), (47, 2)],\n",
       " [(49, 3)]]"
      ]
     },
     "execution_count": 25,
     "metadata": {},
     "output_type": "execute_result"
    }
   ],
   "source": [
    "new_doc_2bow"
   ]
  },
  {
   "cell_type": "code",
   "execution_count": 26,
   "metadata": {},
   "outputs": [],
   "source": [
    "lda = gensim.models.ldamodel.LdaModel(corpus=new_doc_2bow, num_topics=3, id2word=doc_dict, passes=50)"
   ]
  },
  {
   "cell_type": "code",
   "execution_count": 27,
   "metadata": {},
   "outputs": [
    {
     "data": {
      "text/plain": [
       "[(0, '0.017*\"generation\" + 0.017*\"book\" + 0.017*\"best\"'),\n",
       " (1, '0.147*\"best\" + 0.015*\"generation\" + 0.015*\"book\"'),\n",
       " (2, '0.212*\"book\" + 0.067*\"u\" + 0.067*\"give\"')]"
      ]
     },
     "execution_count": 27,
     "metadata": {},
     "output_type": "execute_result"
    }
   ],
   "source": [
    "lda.print_topics(num_topics=5, num_words=3)"
   ]
  },
  {
   "cell_type": "markdown",
   "metadata": {},
   "source": [
    "#### Above topic modelling output is not satisfactory\n",
    "\n",
    "Time to add full passages and try to make our model do the guess work on Topic of passage.\n",
    "\n",
    "We will check if our model will pass english unseen passage exam and answer the questions students have to answer."
   ]
  },
  {
   "cell_type": "code",
   "execution_count": 28,
   "metadata": {},
   "outputs": [
    {
     "data": {
      "text/html": [
       "<img src=\"tenor.gif\">"
      ],
      "text/plain": [
       "<IPython.core.display.HTML object>"
      ]
     },
     "execution_count": 28,
     "metadata": {},
     "output_type": "execute_result"
    }
   ],
   "source": [
    "def display_gif(fn):\n",
    "    from IPython import display\n",
    "    return display.HTML('<img src=\"{}\">'.format(fn))\n",
    "display_gif('tenor.gif')"
   ]
  },
  {
   "cell_type": "code",
   "execution_count": 32,
   "metadata": {},
   "outputs": [],
   "source": [
    "file = open(os.path.join(\"text_files\",\"passage1.txt\"),'r', encoding=\"utf8\")\n",
    "passage1 = file.read()\n",
    "file.close()"
   ]
  },
  {
   "cell_type": "code",
   "execution_count": 33,
   "metadata": {},
   "outputs": [],
   "source": [
    "file = open(os.path.join(\"text_files\",\"passage2.txt\"),'r', encoding=\"utf8\")\n",
    "passage2 = file.read()\n",
    "file.close()"
   ]
  },
  {
   "cell_type": "code",
   "execution_count": 34,
   "metadata": {},
   "outputs": [],
   "source": [
    "file = open(os.path.join(\"text_files\",\"passage3.txt\"),'r', encoding=\"utf8\")\n",
    "passage3 = file.read()\n",
    "file.close()"
   ]
  },
  {
   "cell_type": "code",
   "execution_count": 35,
   "metadata": {},
   "outputs": [],
   "source": [
    "file = open(os.path.join(\"text_files\",\"passage4.txt\"),'r', encoding=\"utf8\")\n",
    "passage4 = file.read()\n",
    "file.close()"
   ]
  },
  {
   "cell_type": "code",
   "execution_count": 36,
   "metadata": {},
   "outputs": [],
   "source": [
    "file = open(os.path.join(\"text_files\",\"passage5.txt\"),'r', encoding=\"utf8\")\n",
    "passage5 = file.read()\n",
    "file.close()"
   ]
  },
  {
   "cell_type": "code",
   "execution_count": 37,
   "metadata": {},
   "outputs": [],
   "source": [
    "file = open(os.path.join(\"text_files\",\"passage6.txt\"),'r', encoding=\"utf8\")\n",
    "passage6 = file.read()\n",
    "file.close()"
   ]
  },
  {
   "cell_type": "code",
   "execution_count": 38,
   "metadata": {},
   "outputs": [],
   "source": [
    "passages=[passage1, passage2, passage3, passage4, passage5, passage6]"
   ]
  },
  {
   "cell_type": "markdown",
   "metadata": {},
   "source": [
    "#### Our steps will include \n",
    "    Cleaning and Preprocessing,\n",
    "    Preparing Document-Term Matrix\n",
    "    Running LDA\n",
    "    Improving Model\n",
    "    "
   ]
  },
  {
   "cell_type": "code",
   "execution_count": 39,
   "metadata": {},
   "outputs": [
    {
     "data": {
      "text/plain": [
       "['i', 'me', 'my', 'myself', 'we', 'our', 'ours', 'ourselves', 'you', \"you're\"]"
      ]
     },
     "execution_count": 39,
     "metadata": {},
     "output_type": "execute_result"
    }
   ],
   "source": [
    "stopwords_list = stopwords.words('english')\n",
    "stopwords_list[:10]"
   ]
  },
  {
   "cell_type": "code",
   "execution_count": 40,
   "metadata": {},
   "outputs": [],
   "source": [
    "#punctuation, stopword & lemma\n",
    "clean_passg=list()\n",
    "# lemma\n",
    "wlemm=WordNetLemmatizer()\n"
   ]
  },
  {
   "cell_type": "code",
   "execution_count": 41,
   "metadata": {},
   "outputs": [],
   "source": [
    "def tune_data(passage):\n",
    "    rem_spl = re.sub('\\W+', ' ', passage)\n",
    "    no_stops=([word.lower() for word in rem_spl.split() if word.lower() not in stopwords_list])\n",
    "    clean_passg=[wlemm.lemmatize(word) for word in no_stops if len(word.strip()) >= 4]\n",
    "    return clean_passg"
   ]
  },
  {
   "cell_type": "code",
   "execution_count": 42,
   "metadata": {},
   "outputs": [
    {
     "data": {
      "text/plain": [
       "6"
      ]
     },
     "execution_count": 42,
     "metadata": {},
     "output_type": "execute_result"
    }
   ],
   "source": [
    "clean_passg = [tune_data(p) for p in passages]\n",
    "len(clean_passg)\n",
    "#print(clean_passg)"
   ]
  },
  {
   "cell_type": "code",
   "execution_count": 43,
   "metadata": {},
   "outputs": [],
   "source": [
    "#for w in clean_passg:\n",
    "#    for y in w:\n",
    "#        if len(y)<4:\n",
    "#            print(len(y), y)"
   ]
  },
  {
   "cell_type": "code",
   "execution_count": 44,
   "metadata": {},
   "outputs": [],
   "source": [
    "dict_passg = Dictionary(clean_passg)"
   ]
  },
  {
   "cell_type": "code",
   "execution_count": 45,
   "metadata": {},
   "outputs": [],
   "source": [
    "bow_passg = [dict_passg.doc2bow(word) for word in clean_passg]"
   ]
  },
  {
   "cell_type": "code",
   "execution_count": 46,
   "metadata": {},
   "outputs": [],
   "source": [
    "#print(bow_passg)"
   ]
  },
  {
   "cell_type": "code",
   "execution_count": 47,
   "metadata": {},
   "outputs": [],
   "source": [
    "lda_passg_bow=gensim.models.LdaMulticore(bow_passg, id2word=dict_passg, num_topics=5, passes=10 )"
   ]
  },
  {
   "cell_type": "code",
   "execution_count": 48,
   "metadata": {},
   "outputs": [
    {
     "data": {
      "text/plain": [
       "array([0.2, 0.2, 0.2, 0.2, 0.2], dtype=float32)"
      ]
     },
     "execution_count": 48,
     "metadata": {},
     "output_type": "execute_result"
    }
   ],
   "source": [
    "lda_passg_bow.alpha"
   ]
  },
  {
   "cell_type": "code",
   "execution_count": 49,
   "metadata": {},
   "outputs": [
    {
     "data": {
      "text/plain": [
       "array([[0.00044686, 0.00044661, 0.00045473, ..., 0.00045108, 0.00044831,\n",
       "        0.00044899],\n",
       "       [0.00112801, 0.00112808, 0.0011366 , ..., 0.00113234, 0.00112971,\n",
       "        0.00112898],\n",
       "       [0.00193028, 0.00193018, 0.00353852, ..., 0.00032243, 0.00032243,\n",
       "        0.00032243],\n",
       "       [0.00022935, 0.00022948, 0.00023057, ..., 0.00022961, 0.00022933,\n",
       "        0.00022931],\n",
       "       [0.00059275, 0.00059291, 0.00647676, ..., 0.00647152, 0.00352975,\n",
       "        0.00352928]], dtype=float32)"
      ]
     },
     "execution_count": 49,
     "metadata": {},
     "output_type": "execute_result"
    }
   ],
   "source": [
    "lda_passg_bow.get_topics()"
   ]
  },
  {
   "cell_type": "code",
   "execution_count": 50,
   "metadata": {},
   "outputs": [
    {
     "data": {
      "text/plain": [
       "[(0,\n",
       "  '0.032*\"book\" + 0.014*\"adult\" + 0.012*\"colouring\" + 0.009*\"drawing\" + 0.009*\"mind\"'),\n",
       " (1,\n",
       "  '0.001*\"health\" + 0.001*\"people\" + 0.001*\"care\" + 0.001*\"tobacco\" + 0.001*\"medical\"'),\n",
       " (2,\n",
       "  '0.052*\"care\" + 0.026*\"home\" + 0.026*\"health\" + 0.020*\"patient\" + 0.020*\"service\"'),\n",
       " (3,\n",
       "  '0.014*\"people\" + 0.013*\"medical\" + 0.013*\"india\" + 0.013*\"disease\" + 0.011*\"tobacco\"'),\n",
       " (4,\n",
       "  '0.018*\"laughter\" + 0.012*\"laugh\" + 0.012*\"good\" + 0.009*\"laughing\" + 0.006*\"system\"')]"
      ]
     },
     "execution_count": 50,
     "metadata": {},
     "output_type": "execute_result"
    }
   ],
   "source": [
    "lda_passg_bow.print_topics(num_words=5, num_topics=5)"
   ]
  },
  {
   "cell_type": "code",
   "execution_count": null,
   "metadata": {},
   "outputs": [],
   "source": []
  },
  {
   "cell_type": "markdown",
   "metadata": {},
   "source": [
    "## Running LDA using TF-IDF"
   ]
  },
  {
   "cell_type": "code",
   "execution_count": 51,
   "metadata": {},
   "outputs": [],
   "source": [
    "tfidf = models.TfidfModel(bow_passg)"
   ]
  },
  {
   "cell_type": "code",
   "execution_count": 52,
   "metadata": {},
   "outputs": [],
   "source": [
    "corpus_tfidf = tfidf[bow_passg]"
   ]
  },
  {
   "cell_type": "code",
   "execution_count": 53,
   "metadata": {},
   "outputs": [],
   "source": [
    "from pprint import pprint"
   ]
  },
  {
   "cell_type": "code",
   "execution_count": 54,
   "metadata": {},
   "outputs": [],
   "source": [
    "# prints %age of word in document\n",
    "#for doc in corpus_tfidf:\n",
    "#    pprint(doc)\n",
    "#    break"
   ]
  },
  {
   "cell_type": "code",
   "execution_count": 55,
   "metadata": {},
   "outputs": [],
   "source": [
    "lda_passg_tfidf = models.LdaMulticore(corpus_tfidf, id2word=dict_passg, num_topics=5, passes=10 )"
   ]
  },
  {
   "cell_type": "code",
   "execution_count": 56,
   "metadata": {},
   "outputs": [
    {
     "data": {
      "text/plain": [
       "[(0,\n",
       "  '0.004*\"book\" + 0.004*\"care\" + 0.003*\"aid\" + 0.002*\"disease\" + 0.002*\"colouring\"'),\n",
       " (1,\n",
       "  '0.003*\"smoking\" + 0.003*\"tobacco\" + 0.002*\"smoker\" + 0.002*\"say\" + 0.002*\"quit\"'),\n",
       " (2,\n",
       "  '0.003*\"laughter\" + 0.003*\"laugh\" + 0.003*\"good\" + 0.002*\"laughing\" + 0.002*\"whether\"'),\n",
       " (3,\n",
       "  '0.003*\"company\" + 0.002*\"india\" + 0.002*\"medical\" + 0.002*\"detail\" + 0.002*\"provides\"'),\n",
       " (4,\n",
       "  '0.001*\"company\" + 0.001*\"india\" + 0.001*\"medical\" + 0.001*\"tourism\" + 0.001*\"package\"')]"
      ]
     },
     "execution_count": 56,
     "metadata": {},
     "output_type": "execute_result"
    }
   ],
   "source": [
    "lda_passg_tfidf.print_topics(num_topics=5, num_words=5)"
   ]
  },
  {
   "cell_type": "code",
   "execution_count": 57,
   "metadata": {},
   "outputs": [
    {
     "name": "stdout",
     "output_type": "stream",
     "text": [
      "\n",
      "Score: 0.9967119693756104\t \n",
      "Topic: 0.014*\"people\" + 0.013*\"medical\" + 0.013*\"india\" + 0.013*\"disease\" + 0.011*\"tobacco\" + 0.009*\"place\" + 0.009*\"aid\" + 0.009*\"million\" + 0.008*\"smoking\" + 0.007*\"health\"\n"
     ]
    }
   ],
   "source": [
    "for index, score in sorted(lda_passg_bow[bow_passg[1]], key=lambda tup: -1*tup[1]):\n",
    "    print(\"\\nScore: {}\\t \\nTopic: {}\".format(score, lda_passg_bow.print_topic(index, 10)))"
   ]
  },
  {
   "cell_type": "code",
   "execution_count": 58,
   "metadata": {},
   "outputs": [
    {
     "name": "stdout",
     "output_type": "stream",
     "text": [
      "\n",
      "Score: 0.9966844916343689\t \n",
      "Topic: 0.004*\"book\" + 0.004*\"care\" + 0.003*\"aid\" + 0.002*\"disease\" + 0.002*\"colouring\" + 0.002*\"service\" + 0.002*\"infection\" + 0.002*\"future\" + 0.002*\"home\" + 0.002*\"customer\"\n"
     ]
    }
   ],
   "source": [
    "for index, score in sorted(lda_passg_tfidf[bow_passg[1]], key=lambda tup: -1*tup[1]):\n",
    "    print(\"\\nScore: {}\\t \\nTopic: {}\".format(score, lda_passg_tfidf.print_topic(index, 10)))"
   ]
  },
  {
   "cell_type": "markdown",
   "metadata": {},
   "source": [
    "## Testing model on unseen document"
   ]
  },
  {
   "cell_type": "code",
   "execution_count": 60,
   "metadata": {},
   "outputs": [],
   "source": [
    "file = open(os.path.join(\"text_files\",\"test.txt\"),'r', encoding=\"utf8\")\n",
    "test = file.read()\n",
    "file.close()"
   ]
  },
  {
   "cell_type": "code",
   "execution_count": 61,
   "metadata": {},
   "outputs": [],
   "source": [
    "clean_test = tune_data(test)"
   ]
  },
  {
   "cell_type": "code",
   "execution_count": 62,
   "metadata": {},
   "outputs": [
    {
     "data": {
      "text/plain": [
       "['health',\n",
       " 'broadly',\n",
       " 'divided',\n",
       " 'type',\n",
       " 'physical',\n",
       " 'health',\n",
       " 'mental',\n",
       " 'health',\n",
       " 'although',\n",
       " 'dimension']"
      ]
     },
     "execution_count": 62,
     "metadata": {},
     "output_type": "execute_result"
    }
   ],
   "source": [
    "clean_test[:10]"
   ]
  },
  {
   "cell_type": "code",
   "execution_count": 63,
   "metadata": {},
   "outputs": [],
   "source": [
    "bow_test = dict_passg.doc2bow(document=clean_test)"
   ]
  },
  {
   "cell_type": "code",
   "execution_count": 64,
   "metadata": {},
   "outputs": [
    {
     "name": "stdout",
     "output_type": "stream",
     "text": [
      "Score: 0.4530673325061798\t Topic: 0.052*\"care\" + 0.026*\"home\" + 0.026*\"health\" + 0.020*\"patient\" + 0.020*\"service\"\n",
      "Score: 0.2727982699871063\t Topic: 0.014*\"people\" + 0.013*\"medical\" + 0.013*\"india\" + 0.013*\"disease\" + 0.011*\"tobacco\"\n",
      "Score: 0.1775606870651245\t Topic: 0.032*\"book\" + 0.014*\"adult\" + 0.012*\"colouring\" + 0.009*\"drawing\" + 0.009*\"mind\"\n",
      "Score: 0.09168991446495056\t Topic: 0.018*\"laughter\" + 0.012*\"laugh\" + 0.012*\"good\" + 0.009*\"laughing\" + 0.006*\"system\"\n"
     ]
    }
   ],
   "source": [
    "for index, score in sorted(lda_passg_bow[bow_test], key=lambda tup: -1*tup[1]):\n",
    "    #print(round(score, 3), index)\n",
    "    print(\"Score: {}\\t Topic: {}\".format(score, lda_passg_bow.print_topic(index, 5)))"
   ]
  },
  {
   "cell_type": "code",
   "execution_count": 65,
   "metadata": {},
   "outputs": [
    {
     "name": "stdout",
     "output_type": "stream",
     "text": [
      "Score: 0.9799636006355286\t Topic: 0.004*\"book\" + 0.004*\"care\" + 0.003*\"aid\" + 0.002*\"disease\" + 0.002*\"colouring\"\n"
     ]
    }
   ],
   "source": [
    "for index, score in sorted(lda_passg_tfidf[bow_test], key=lambda tup: -1*tup[1]):\n",
    "    print(\"Score: {}\\t Topic: {}\".format(score, lda_passg_tfidf.print_topic(index, 5)))"
   ]
  },
  {
   "cell_type": "markdown",
   "metadata": {},
   "source": [
    "## Currently this model is not the most accurate bcoz it has not been trained with a big corpora.\n",
    "\n",
    "Our aim further will be to improve it by feeding more training data. All of us students had read way too much than this model so of course we will be better than this model for now :)"
   ]
  },
  {
   "cell_type": "markdown",
   "metadata": {},
   "source": [
    "# Let the web scraping begin!!!\n",
    "\n",
    "In another notebook."
   ]
  }
 ],
 "metadata": {
  "kernelspec": {
   "display_name": "Python 3",
   "language": "python",
   "name": "python3"
  },
  "language_info": {
   "codemirror_mode": {
    "name": "ipython",
    "version": 3
   },
   "file_extension": ".py",
   "mimetype": "text/x-python",
   "name": "python",
   "nbconvert_exporter": "python",
   "pygments_lexer": "ipython3",
   "version": "3.6.4"
  }
 },
 "nbformat": 4,
 "nbformat_minor": 2
}
