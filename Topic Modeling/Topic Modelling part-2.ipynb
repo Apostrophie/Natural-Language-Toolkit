{
 "cells": [
  {
   "cell_type": "markdown",
   "metadata": {},
   "source": [
    "# Topic Modelling\n",
    "\n",
    "It is different from rule-based text mining approaches that use regular expressions or dictionary based keyword searching techniques. It is an unsupervised approach used for finding and observing the bunch of words in large clusters of texts.\n",
    "\n",
    "Topic Models are very useful for the purpose for document clustering, organizing large blocks of textual data, information retrieval from unstructured text and feature selection."
   ]
  },
  {
   "cell_type": "markdown",
   "metadata": {},
   "source": [
    "#### Tasks to perform \n",
    "- Preparing documents\n",
    "- Cleaning and Preprocessing\n",
    "- Preparing document term matrix\n",
    "- Running LDA(Latent Dirichlet Allocation) model\n",
    "- Improve results\n"
   ]
  },
  {
   "cell_type": "markdown",
   "metadata": {},
   "source": [
    "## Preparing documents\n",
    "\n",
    "Passage is taken from https://www.learncbse.in/unseen-passage-for-class-7/"
   ]
  },
  {
   "cell_type": "markdown",
   "metadata": {},
   "source": [
    "#### Previous topic modelling output is not satisfactory\n",
    "\n",
    "We have to add full passages and try to make our model do the guess work on Topic of passage.\n",
    "\n",
    "We will check if our model will pass english unseen passage exam and answer the questions students have to answer."
   ]
  },
  {
   "cell_type": "code",
   "execution_count": 1,
   "metadata": {},
   "outputs": [
    {
     "data": {
      "text/html": [
       "<img src=\"tenor.gif\">"
      ],
      "text/plain": [
       "<IPython.core.display.HTML object>"
      ]
     },
     "execution_count": 1,
     "metadata": {},
     "output_type": "execute_result"
    }
   ],
   "source": [
    "def display_gif(fn):\n",
    "    from IPython import display\n",
    "    return display.HTML('<img src=\"{}\">'.format(fn))\n",
    "display_gif('tenor.gif')"
   ]
  },
  {
   "cell_type": "markdown",
   "metadata": {},
   "source": [
    "## Currently this model is not the most accurate bcoz it has not been trained with a big corpora.\n",
    "\n",
    "Our aim now is to improve it by feeding more training data. All of us students had read way too much than this model so of course we will be better than this model for now :)"
   ]
  },
  {
   "cell_type": "markdown",
   "metadata": {},
   "source": [
    "# Let the web scraping begin!!!\n",
    "\n",
    "from the site- https://www.indiacelebrating.com/essay/black-money-essay/"
   ]
  },
  {
   "cell_type": "code",
   "execution_count": 2,
   "metadata": {},
   "outputs": [],
   "source": [
    "import pandas as pd\n",
    "import matplotlib.pyplot as plt\n",
    "from bs4 import BeautifulSoup\n",
    "from wordcloud import WordCloud\n",
    "from nltk.corpus import stopwords"
   ]
  },
  {
   "cell_type": "code",
   "execution_count": 3,
   "metadata": {},
   "outputs": [],
   "source": [
    "import urllib\n",
    "import requests\n",
    "import re\n",
    "from nltk.stem import WordNetLemmatizer\n",
    "from gensim.models import LdaModel, TfidfModel\n",
    "from gensim.corpora.dictionary import Dictionary"
   ]
  },
  {
   "cell_type": "code",
   "execution_count": 4,
   "metadata": {},
   "outputs": [],
   "source": [
    "url=\"https://www.indiacelebrating.com/essay/black-money-essay/\"\n",
    "req = urllib.request.urlopen(url)"
   ]
  },
  {
   "cell_type": "code",
   "execution_count": 5,
   "metadata": {},
   "outputs": [],
   "source": [
    "soup = BeautifulSoup(req,'lxml')"
   ]
  },
  {
   "cell_type": "code",
   "execution_count": 6,
   "metadata": {},
   "outputs": [
    {
     "data": {
      "text/plain": [
       "bs4.BeautifulSoup"
      ]
     },
     "execution_count": 6,
     "metadata": {},
     "output_type": "execute_result"
    }
   ],
   "source": [
    "type(soup)"
   ]
  },
  {
   "cell_type": "code",
   "execution_count": 7,
   "metadata": {},
   "outputs": [
    {
     "data": {
      "text/plain": [
       "<title>Long and Short Essay on Black Money in English for Children and Students</title>"
      ]
     },
     "execution_count": 7,
     "metadata": {},
     "output_type": "execute_result"
    }
   ],
   "source": [
    "# prettify() gives HTML text of the page\n",
    "# print(soup.prettify())\n",
    "soup.find('title')"
   ]
  },
  {
   "cell_type": "code",
   "execution_count": 8,
   "metadata": {},
   "outputs": [
    {
     "data": {
      "text/plain": [
       "[<h3>Black Money Essay – 1 (200 words)</h3>,\n",
       " <h3>Black Money Essay – 2 (300 words)</h3>,\n",
       " <h3>Black Money Essay – 3 (400 words)</h3>,\n",
       " <h3>Black Money Essay – 4 (500 words)</h3>,\n",
       " <h3>Black Money Essay – 5 (600 words)</h3>,\n",
       " <h3>About The Author</h3>,\n",
       " <h3>Related Posts</h3>]"
      ]
     },
     "execution_count": 8,
     "metadata": {},
     "output_type": "execute_result"
    }
   ],
   "source": [
    "soup.find_all('h3')"
   ]
  },
  {
   "cell_type": "code",
   "execution_count": 9,
   "metadata": {},
   "outputs": [],
   "source": [
    "#Gives all the text which exists between tags\n",
    "#print(soup.get_text())"
   ]
  },
  {
   "cell_type": "markdown",
   "metadata": {},
   "source": [
    "Clearly what we are getting from get_text is gibberish and if we start cleaning it then this exercise will be of no use. ** Our aim is to get Topic without mentioning topic anywhere.**"
   ]
  },
  {
   "cell_type": "code",
   "execution_count": null,
   "metadata": {},
   "outputs": [],
   "source": []
  },
  {
   "cell_type": "code",
   "execution_count": 10,
   "metadata": {},
   "outputs": [],
   "source": [
    "link = requests.get(\"https://www.indiacelebrating.com/essay/black-money-essay/\")"
   ]
  },
  {
   "cell_type": "code",
   "execution_count": 11,
   "metadata": {},
   "outputs": [],
   "source": [
    "#link = requests.get(\"https://www.indiacelebrating.com/essay/b\")"
   ]
  },
  {
   "cell_type": "code",
   "execution_count": 12,
   "metadata": {},
   "outputs": [
    {
     "data": {
      "text/plain": [
       "<Response [200]>"
      ]
     },
     "execution_count": 12,
     "metadata": {},
     "output_type": "execute_result"
    }
   ],
   "source": [
    "link"
   ]
  },
  {
   "cell_type": "code",
   "execution_count": 13,
   "metadata": {},
   "outputs": [],
   "source": [
    "# prints html content\n",
    "#print(link.content)"
   ]
  },
  {
   "cell_type": "code",
   "execution_count": 14,
   "metadata": {},
   "outputs": [],
   "source": [
    "# prints pretty HTML\n",
    "#print(link.text)"
   ]
  },
  {
   "cell_type": "markdown",
   "metadata": {},
   "source": [
    "This is insane! I was not expecting it to be filled it with so much junk. Let us stick with urllib for now."
   ]
  },
  {
   "cell_type": "markdown",
   "metadata": {},
   "source": [
    "So there is a pattern in this page. all < p > under < div class= \"post-content entry-content\" > are our area of interest along with some google ads. We will add those in stopwords. \n",
    "I have 2 approaches here-\n",
    "1. get all p's \n",
    "2. get div with class= \"post-content entry-content\"\n",
    "\n",
    "I will try first with the one with all p's."
   ]
  },
  {
   "cell_type": "code",
   "execution_count": 15,
   "metadata": {},
   "outputs": [
    {
     "data": {
      "text/plain": [
       "list_iterator"
      ]
     },
     "execution_count": 15,
     "metadata": {},
     "output_type": "execute_result"
    }
   ],
   "source": [
    "ch = soup.children\n",
    "type(ch)\n",
    "\n",
    "# ch has list of all child tags of html page\n",
    "\n",
    "#for i in ch:\n",
    "#    print(i)"
   ]
  },
  {
   "cell_type": "code",
   "execution_count": 16,
   "metadata": {},
   "outputs": [
    {
     "name": "stdout",
     "output_type": "stream",
     "text": [
      "84\n"
     ]
    }
   ],
   "source": [
    "par = soup.find(name = 'div', attrs=\"post-content entry-content\")\n",
    "\n",
    "print(len(par))\n",
    "#print(par) \n",
    "#instead of taking this parent we will take all p's"
   ]
  },
  {
   "cell_type": "code",
   "execution_count": 17,
   "metadata": {},
   "outputs": [],
   "source": [
    "paras = par.find_all('p')"
   ]
  },
  {
   "cell_type": "code",
   "execution_count": 18,
   "metadata": {},
   "outputs": [],
   "source": [
    "#paras = soup.find_all(name='p')"
   ]
  },
  {
   "cell_type": "code",
   "execution_count": 19,
   "metadata": {},
   "outputs": [
    {
     "data": {
      "text/plain": [
       "[<p>Black money is basically the accumulation of income obtained illegally. It is not declared for tax purpose. The issue of black money is prevalent in India and the government has come up with stern measures to deal with it lately. The money earned via unlawful means is known as black money. There are various sources of generating black money and people have been practicing these since decades despite the negative impact they have on the society.</p>,\n",
       " <p>Here are essays on Black Money of varying lengths to help you with the topic in your exam, class tests or competitions. You can choose any Black Money essay according to your need and interest:</p>]"
      ]
     },
     "execution_count": 19,
     "metadata": {},
     "output_type": "execute_result"
    }
   ],
   "source": [
    "paras[:2]"
   ]
  },
  {
   "cell_type": "markdown",
   "metadata": {},
   "source": [
    "We will get data between < p > and < /p >. As type of each element of paras is tag, that means we can get text from it :)"
   ]
  },
  {
   "cell_type": "code",
   "execution_count": 20,
   "metadata": {},
   "outputs": [
    {
     "data": {
      "text/plain": [
       "bs4.element.Tag"
      ]
     },
     "execution_count": 20,
     "metadata": {},
     "output_type": "execute_result"
    }
   ],
   "source": [
    "type(paras[0])\n",
    "#re.sub('^<p></p>$', '', paras[0])"
   ]
  },
  {
   "cell_type": "code",
   "execution_count": 21,
   "metadata": {},
   "outputs": [
    {
     "data": {
      "text/plain": [
       "'Black money is basically the accumulation of income obtained illegally. It is not declared for tax purpose. The issue of black money is prevalent in India and the government has come up with stern measures to deal with it lately. The money earned via unlawful means is known as black money. There are various sources of generating black money and people have been practicing these since decades despite the negative impact they have on the society.'"
      ]
     },
     "execution_count": 21,
     "metadata": {},
     "output_type": "execute_result"
    }
   ],
   "source": [
    "paras[0].get_text()"
   ]
  },
  {
   "cell_type": "markdown",
   "metadata": {},
   "source": [
    "I will subject all the data coming from this url as 1 document. So all text coming from p's will be appended and added as 1 row in df. We have more data coming from other url's right after we figure this one out."
   ]
  },
  {
   "cell_type": "code",
   "execution_count": 22,
   "metadata": {},
   "outputs": [
    {
     "name": "stdout",
     "output_type": "stream",
     "text": [
      "Black money is basically the accumulation of income obtained illegally. It is not declared for tax purpose. The issue of black money is prevalent in India and the government has come up with stern measures to deal with it lately. The money earned via unlawful means is known as black money. There are various sources of generating black money and people have been practicing these since decades despite the negative impact they have on the society.\n",
      "Here are essays on Black Money of varying lengths to help you with the topic in your exam, class tests or competitions. You can choose any Black Money essay according to your need and interest:\n"
     ]
    }
   ],
   "source": [
    "Document_text=''\n",
    "\n",
    "for p in paras[:2]:\n",
    "    print(p.get_text())"
   ]
  },
  {
   "cell_type": "markdown",
   "metadata": {},
   "source": [
    "Looks like it will need some cleaning. Nevermind. We will put it to df."
   ]
  },
  {
   "cell_type": "code",
   "execution_count": 23,
   "metadata": {},
   "outputs": [],
   "source": [
    "Document_text=''\n",
    "\n",
    "for p in paras:\n",
    "    Document_text+=p.get_text().strip('\\n')+' '"
   ]
  },
  {
   "cell_type": "code",
   "execution_count": 24,
   "metadata": {},
   "outputs": [
    {
     "data": {
      "text/plain": [
       "'Black money is basically the accumulation of income obtained illegally. It is not declared for tax p'"
      ]
     },
     "execution_count": 24,
     "metadata": {},
     "output_type": "execute_result"
    }
   ],
   "source": [
    "Document_text[:100]"
   ]
  },
  {
   "cell_type": "code",
   "execution_count": 25,
   "metadata": {},
   "outputs": [],
   "source": [
    "#Document_text[9500:]\n",
    "#s=re.sub('\\n*\\_*', '', Document_text)\n",
    "#s[10500:]\n",
    "#re.sub('<!--[a-zA-Z0-9]*?-->', '', s)"
   ]
  },
  {
   "cell_type": "code",
   "execution_count": 26,
   "metadata": {},
   "outputs": [],
   "source": [
    "# removing anything between html comment tags\n",
    "#s=re.sub('<!--(.*?)-->', '',Document_text)\n",
    "#s[9500:]"
   ]
  },
  {
   "cell_type": "markdown",
   "metadata": {},
   "source": [
    "Yup. This successfully removes our comments. (This one is not having comments but previous < p >'s had and this worked perfectly fine there).\n",
    "\n",
    "Time to put it all together in dataFrame df."
   ]
  },
  {
   "cell_type": "markdown",
   "metadata": {},
   "source": [
    "#### Getting list of essays\n",
    "\n",
    "All td elements have links to essays. So we will get our essay list from there."
   ]
  },
  {
   "cell_type": "code",
   "execution_count": 27,
   "metadata": {},
   "outputs": [],
   "source": [
    "home_url = 'https://www.indiacelebrating.com/english-essay/'\n",
    "home_page = urllib.request.urlopen(home_url)"
   ]
  },
  {
   "cell_type": "code",
   "execution_count": 28,
   "metadata": {},
   "outputs": [],
   "source": [
    "soup = BeautifulSoup(home_page, 'lxml')\n",
    "#soup"
   ]
  },
  {
   "cell_type": "code",
   "execution_count": 29,
   "metadata": {},
   "outputs": [
    {
     "data": {
      "text/plain": [
       "[<td align=\"LEFT\" bgcolor=\"#CCCCCC\" height=\"17\" width=\"255\"><strong>General Essay<br/>\n",
       " </strong></td>,\n",
       " <td align=\"LEFT\" bgcolor=\"#CCCCCC\" width=\"177\"></td>,\n",
       " <td align=\"LEFT\" height=\"17\" width=\"255\"><a href=\"https://www.indiacelebrating.com/essay/generation-gap-essay/\">Essay on Generation Gap</a></td>,\n",
       " <td align=\"LEFT\" width=\"177\"><a href=\"https://www.indiacelebrating.com/essay/globalization-essay/\">Globalization Essay</a></td>,\n",
       " <td align=\"LEFT\" height=\"17\" width=\"255\"><a href=\"https://www.indiacelebrating.com/essay/music-essay/\">Essay on Music</a></td>]"
      ]
     },
     "execution_count": 29,
     "metadata": {},
     "output_type": "execute_result"
    }
   ],
   "source": [
    "tds = soup.find_all('td')\n",
    "tds[:5]"
   ]
  },
  {
   "cell_type": "code",
   "execution_count": 30,
   "metadata": {},
   "outputs": [
    {
     "name": "stdout",
     "output_type": "stream",
     "text": [
      "tds[2]::  <td align=\"LEFT\" height=\"17\" width=\"255\"><a href=\"https://www.indiacelebrating.com/essay/generation-gap-essay/\">Essay on Generation Gap</a></td>\n",
      "\n",
      "type(tds[2])::  <class 'bs4.element.Tag'>\n",
      "\n",
      "type(tds[2].contents)::  <class 'list'>\n",
      "\n",
      " <class 'bs4.element.Tag'> {'href': 'https://www.indiacelebrating.com/essay/generation-gap-essay/'}\n"
     ]
    }
   ],
   "source": [
    "print('tds[2]:: ',tds[2])\n",
    "print('\\ntype(tds[2]):: '.ljust(15), type(tds[2]))\n",
    "print('\\ntype(tds[2].contents):: '.ljust(15), type(tds[2].contents))\n",
    "for d in tds[2].children:\n",
    "    print('\\n', type(d), d.attrs)"
   ]
  },
  {
   "cell_type": "code",
   "execution_count": 31,
   "metadata": {},
   "outputs": [],
   "source": [
    "essay_links = list()\n",
    "for td in tds:\n",
    "    for d in td.children:\n",
    "        if d.attrs:\n",
    "            #essay_links.append([v for v in d.attrs.values()])\n",
    "            essay_links.append(d.attrs['href'])"
   ]
  },
  {
   "cell_type": "code",
   "execution_count": 32,
   "metadata": {},
   "outputs": [
    {
     "data": {
      "text/plain": [
       "['https://www.indiacelebrating.com/essay/generation-gap-essay/',\n",
       " 'https://www.indiacelebrating.com/essay/globalization-essay/',\n",
       " 'https://www.indiacelebrating.com/essay/music-essay/',\n",
       " 'https://www.indiacelebrating.com/essay/my-hobby-essay/',\n",
       " 'https://www.indiacelebrating.com/essay/money-essay/']"
      ]
     },
     "execution_count": 32,
     "metadata": {},
     "output_type": "execute_result"
    }
   ],
   "source": [
    "essay_links[:5]"
   ]
  },
  {
   "cell_type": "code",
   "execution_count": 33,
   "metadata": {},
   "outputs": [
    {
     "data": {
      "text/plain": [
       "367"
      ]
     },
     "execution_count": 33,
     "metadata": {},
     "output_type": "execute_result"
    }
   ],
   "source": [
    "len(essay_links)#print(essay_links[:100])"
   ]
  },
  {
   "cell_type": "markdown",
   "metadata": {},
   "source": [
    "Considering that there might be links which are not directed to essays, we have roughly 360 essays/documents. \n",
    "\n",
    "We can keep 100 for training for now and take 101th for testing."
   ]
  },
  {
   "cell_type": "code",
   "execution_count": 34,
   "metadata": {},
   "outputs": [],
   "source": [
    "all_data = list()\n",
    "for link in essay_links[:360]:\n",
    "    essay_data = urllib.request.urlopen(link)\n",
    "    soup = BeautifulSoup(essay_data, 'lxml')\n",
    "    #print(soup.title)\n",
    "    par = soup.find(name = 'div', attrs=\"post-content entry-content\")\n",
    "    paras = par.find_all(name='p')\n",
    "    Document_text=''\n",
    "    for p in paras:\n",
    "        Document_text+=p.get_text().strip()+' '\n",
    "        Document_text=re.sub('<!--(.*?)-->', '',Document_text )\n",
    "        \n",
    "    all_data.append(Document_text)"
   ]
  },
  {
   "cell_type": "code",
   "execution_count": 37,
   "metadata": {},
   "outputs": [
    {
     "data": {
      "text/plain": [
       "360"
      ]
     },
     "execution_count": 37,
     "metadata": {},
     "output_type": "execute_result"
    }
   ],
   "source": [
    "len(all_data)"
   ]
  },
  {
   "cell_type": "code",
   "execution_count": 39,
   "metadata": {},
   "outputs": [],
   "source": [
    "#all_data"
   ]
  },
  {
   "cell_type": "code",
   "execution_count": 40,
   "metadata": {},
   "outputs": [
    {
     "data": {
      "text/html": [
       "<div>\n",
       "<style scoped>\n",
       "    .dataframe tbody tr th:only-of-type {\n",
       "        vertical-align: middle;\n",
       "    }\n",
       "\n",
       "    .dataframe tbody tr th {\n",
       "        vertical-align: top;\n",
       "    }\n",
       "\n",
       "    .dataframe thead th {\n",
       "        text-align: right;\n",
       "    }\n",
       "</style>\n",
       "<table border=\"1\" class=\"dataframe\">\n",
       "  <thead>\n",
       "    <tr style=\"text-align: right;\">\n",
       "      <th></th>\n",
       "      <th>Data</th>\n",
       "    </tr>\n",
       "  </thead>\n",
       "  <tbody>\n",
       "    <tr>\n",
       "      <th>0</th>\n",
       "      <td>Generation Gap occurs when there is a consider...</td>\n",
       "    </tr>\n",
       "    <tr>\n",
       "      <th>1</th>\n",
       "      <td>Globalization is the process used by businesse...</td>\n",
       "    </tr>\n",
       "    <tr>\n",
       "      <th>2</th>\n",
       "      <td>Music is the art of expressing ideas and emoti...</td>\n",
       "    </tr>\n",
       "    <tr>\n",
       "      <th>3</th>\n",
       "      <td>Hobby is the favorite activity, habit or choic...</td>\n",
       "    </tr>\n",
       "    <tr>\n",
       "      <th>4</th>\n",
       "      <td>Money is the medium used by people to buy requ...</td>\n",
       "    </tr>\n",
       "  </tbody>\n",
       "</table>\n",
       "</div>"
      ],
      "text/plain": [
       "                                                Data\n",
       "0  Generation Gap occurs when there is a consider...\n",
       "1  Globalization is the process used by businesse...\n",
       "2  Music is the art of expressing ideas and emoti...\n",
       "3  Hobby is the favorite activity, habit or choic...\n",
       "4  Money is the medium used by people to buy requ..."
      ]
     },
     "execution_count": 40,
     "metadata": {},
     "output_type": "execute_result"
    }
   ],
   "source": [
    "df = pd.DataFrame(all_data, columns=['Data'])\n",
    "df.head()"
   ]
  },
  {
   "cell_type": "code",
   "execution_count": 41,
   "metadata": {},
   "outputs": [],
   "source": [
    "df_copy=df.copy()"
   ]
  },
  {
   "cell_type": "markdown",
   "metadata": {},
   "source": [
    "#### We will read back  data from df for cleaning"
   ]
  },
  {
   "cell_type": "code",
   "execution_count": 42,
   "metadata": {},
   "outputs": [],
   "source": [
    "wc = WordCloud(width=1000, height=800, min_font_size=8, max_words=300)"
   ]
  },
  {
   "cell_type": "code",
   "execution_count": 43,
   "metadata": {},
   "outputs": [
    {
     "data": {
      "text/plain": [
       "<matplotlib.image.AxesImage at 0x1f700d9d160>"
      ]
     },
     "execution_count": 43,
     "metadata": {},
     "output_type": "execute_result"
    },
    {
     "data": {
      "image/png": "[encoded data removed]",
      "text/plain": [
       "<matplotlib.figure.Figure at 0x1f7099dea58>"
      ]
     },
     "metadata": {},
     "output_type": "display_data"
    }
   ],
   "source": [
    "plt.figure(figsize=(10,8))\n",
    "plt.imshow(wc.generate_from_text(df['Data'][0]))"
   ]
  },
  {
   "cell_type": "code",
   "execution_count": 72,
   "metadata": {},
   "outputs": [
    {
     "data": {
      "text/plain": [
       "['i', 'me', 'my', 'myself', 'we']"
      ]
     },
     "execution_count": 72,
     "metadata": {},
     "output_type": "execute_result"
    }
   ],
   "source": [
    "#stopwords_list.extend(['select', 'page'])\n",
    "#re.sub('\\W+', ' ', df['Data'][0])\n",
    "stopword = stopwords.words('english')\n",
    "stopword.extend(['u'])\n",
    "stopword[:5]"
   ]
  },
  {
   "cell_type": "code",
   "execution_count": 73,
   "metadata": {},
   "outputs": [],
   "source": [
    "lemm = WordNetLemmatizer()\n",
    "\n",
    "def clean(doc):\n",
    "    rem_punc = re.sub('\\W+', ' ', doc)\n",
    "    rem_stops = [word.lower() for word in rem_punc.split() if word.lower() not in stopword]\n",
    "    doc_lemm = ' '.join([lemm.lemmatize(word) for word in rem_stops])\n",
    "    \n",
    "    return doc_lemm"
   ]
  },
  {
   "cell_type": "code",
   "execution_count": 74,
   "metadata": {},
   "outputs": [],
   "source": [
    "df['Clean_Data'] = df['Data'].apply(clean)"
   ]
  },
  {
   "cell_type": "code",
   "execution_count": 75,
   "metadata": {},
   "outputs": [
    {
     "data": {
      "text/plain": [
       "0    generation gap occurs considerable difference ...\n",
       "1    globalization process used business organizati...\n",
       "2    music art expressing idea emotion significant ...\n",
       "3    hobby favorite activity habit choice person re...\n",
       "4    money medium used people buy required good ser...\n",
       "Name: Clean_Data, dtype: object"
      ]
     },
     "execution_count": 75,
     "metadata": {},
     "output_type": "execute_result"
    }
   ],
   "source": [
    "df['Clean_Data'][:5]"
   ]
  },
  {
   "cell_type": "code",
   "execution_count": 76,
   "metadata": {},
   "outputs": [],
   "source": [
    "df['List']=df['Clean_Data'].apply(lambda st:st.split())"
   ]
  },
  {
   "cell_type": "code",
   "execution_count": 77,
   "metadata": {},
   "outputs": [
    {
     "data": {
      "text/plain": [
       "['generation',\n",
       " 'gap',\n",
       " 'occurs',\n",
       " 'considerable',\n",
       " 'difference',\n",
       " 'age',\n",
       " 'entire',\n",
       " 'generation',\n",
       " 'two',\n",
       " 'people']"
      ]
     },
     "execution_count": 77,
     "metadata": {},
     "output_type": "execute_result"
    }
   ],
   "source": [
    "df['List'][0][:10]"
   ]
  },
  {
   "cell_type": "code",
   "execution_count": 78,
   "metadata": {},
   "outputs": [
    {
     "data": {
      "text/plain": [
       "<bound method Dictionary.keys of <gensim.corpora.dictionary.Dictionary object at 0x000001F713C5F6A0>>"
      ]
     },
     "execution_count": 78,
     "metadata": {},
     "output_type": "execute_result"
    }
   ],
   "source": [
    "dict_df = Dictionary(df['List'])\n",
    "dict_df.keys"
   ]
  },
  {
   "cell_type": "code",
   "execution_count": 79,
   "metadata": {},
   "outputs": [
    {
     "data": {
      "text/html": [
       "<div>\n",
       "<style scoped>\n",
       "    .dataframe tbody tr th:only-of-type {\n",
       "        vertical-align: middle;\n",
       "    }\n",
       "\n",
       "    .dataframe tbody tr th {\n",
       "        vertical-align: top;\n",
       "    }\n",
       "\n",
       "    .dataframe thead th {\n",
       "        text-align: right;\n",
       "    }\n",
       "</style>\n",
       "<table border=\"1\" class=\"dataframe\">\n",
       "  <thead>\n",
       "    <tr style=\"text-align: right;\">\n",
       "      <th></th>\n",
       "      <th>Data</th>\n",
       "      <th>Clean_Data</th>\n",
       "      <th>List</th>\n",
       "      <th>bow</th>\n",
       "    </tr>\n",
       "  </thead>\n",
       "  <tbody>\n",
       "    <tr>\n",
       "      <th>0</th>\n",
       "      <td>Generation Gap occurs when there is a consider...</td>\n",
       "      <td>generation gap occurs considerable difference ...</td>\n",
       "      <td>[generation, gap, occurs, considerable, differ...</td>\n",
       "      <td>[(0, 2), (1, 1), (2, 1), (3, 3), (4, 3), (5, 1...</td>\n",
       "    </tr>\n",
       "    <tr>\n",
       "      <th>1</th>\n",
       "      <td>Globalization is the process used by businesse...</td>\n",
       "      <td>globalization process used business organizati...</td>\n",
       "      <td>[globalization, process, used, business, organ...</td>\n",
       "      <td>[(9, 1), (11, 1), (12, 2), (16, 3), (19, 1), (...</td>\n",
       "    </tr>\n",
       "    <tr>\n",
       "      <th>2</th>\n",
       "      <td>Music is the art of expressing ideas and emoti...</td>\n",
       "      <td>music art expressing idea emotion significant ...</td>\n",
       "      <td>[music, art, expressing, idea, emotion, signif...</td>\n",
       "      <td>[(11, 2), (21, 1), (23, 1), (24, 10), (27, 5),...</td>\n",
       "    </tr>\n",
       "    <tr>\n",
       "      <th>3</th>\n",
       "      <td>Hobby is the favorite activity, habit or choic...</td>\n",
       "      <td>hobby favorite activity habit choice person re...</td>\n",
       "      <td>[hobby, favorite, activity, habit, choice, per...</td>\n",
       "      <td>[(11, 3), (12, 1), (17, 2), (23, 3), (24, 5), ...</td>\n",
       "    </tr>\n",
       "    <tr>\n",
       "      <th>4</th>\n",
       "      <td>Money is the medium used by people to buy requ...</td>\n",
       "      <td>money medium used people buy required good ser...</td>\n",
       "      <td>[money, medium, used, people, buy, required, g...</td>\n",
       "      <td>[(17, 1), (20, 1), (21, 2), (38, 1), (40, 4), ...</td>\n",
       "    </tr>\n",
       "  </tbody>\n",
       "</table>\n",
       "</div>"
      ],
      "text/plain": [
       "                                                Data  \\\n",
       "0  Generation Gap occurs when there is a consider...   \n",
       "1  Globalization is the process used by businesse...   \n",
       "2  Music is the art of expressing ideas and emoti...   \n",
       "3  Hobby is the favorite activity, habit or choic...   \n",
       "4  Money is the medium used by people to buy requ...   \n",
       "\n",
       "                                          Clean_Data  \\\n",
       "0  generation gap occurs considerable difference ...   \n",
       "1  globalization process used business organizati...   \n",
       "2  music art expressing idea emotion significant ...   \n",
       "3  hobby favorite activity habit choice person re...   \n",
       "4  money medium used people buy required good ser...   \n",
       "\n",
       "                                                List  \\\n",
       "0  [generation, gap, occurs, considerable, differ...   \n",
       "1  [globalization, process, used, business, organ...   \n",
       "2  [music, art, expressing, idea, emotion, signif...   \n",
       "3  [hobby, favorite, activity, habit, choice, per...   \n",
       "4  [money, medium, used, people, buy, required, g...   \n",
       "\n",
       "                                                 bow  \n",
       "0  [(0, 2), (1, 1), (2, 1), (3, 3), (4, 3), (5, 1...  \n",
       "1  [(9, 1), (11, 1), (12, 2), (16, 3), (19, 1), (...  \n",
       "2  [(11, 2), (21, 1), (23, 1), (24, 10), (27, 5),...  \n",
       "3  [(11, 3), (12, 1), (17, 2), (23, 3), (24, 5), ...  \n",
       "4  [(17, 1), (20, 1), (21, 2), (38, 1), (40, 4), ...  "
      ]
     },
     "execution_count": 79,
     "metadata": {},
     "output_type": "execute_result"
    }
   ],
   "source": [
    "df['bow'] = df['List'].apply(lambda x : dict_df.doc2bow(x))\n",
    "df.head()"
   ]
  },
  {
   "cell_type": "markdown",
   "metadata": {},
   "source": [
    "## Running LDA using Bag of Words"
   ]
  },
  {
   "cell_type": "code",
   "execution_count": 80,
   "metadata": {},
   "outputs": [],
   "source": [
    "model = LdaModel(df['bow'], id2word=dict_df)"
   ]
  },
  {
   "cell_type": "code",
   "execution_count": null,
   "metadata": {},
   "outputs": [],
   "source": []
  },
  {
   "cell_type": "code",
   "execution_count": 82,
   "metadata": {},
   "outputs": [
    {
     "data": {
      "text/plain": [
       "[(63,\n",
       "  '0.017*\"people\" + 0.016*\"day\" + 0.013*\"life\" + 0.011*\"india\" + 0.007*\"country\"'),\n",
       " (44,\n",
       "  '0.014*\"india\" + 0.010*\"people\" + 0.009*\"life\" + 0.008*\"day\" + 0.008*\"time\"'),\n",
       " (86,\n",
       "  '0.012*\"day\" + 0.011*\"resource\" + 0.009*\"also\" + 0.009*\"people\" + 0.008*\"festival\"'),\n",
       " (7,\n",
       "  '0.013*\"india\" + 0.012*\"day\" + 0.010*\"country\" + 0.009*\"essay\" + 0.008*\"also\"'),\n",
       " (55,\n",
       "  '0.012*\"right\" + 0.010*\"people\" + 0.008*\"resource\" + 0.006*\"india\" + 0.006*\"education\"')]"
      ]
     },
     "execution_count": 82,
     "metadata": {},
     "output_type": "execute_result"
    }
   ],
   "source": [
    "model.print_topics(num_topics=5, num_words=5)"
   ]
  },
  {
   "cell_type": "markdown",
   "metadata": {},
   "source": [
    "## Running LDA using TF-IDF"
   ]
  },
  {
   "cell_type": "code",
   "execution_count": 83,
   "metadata": {},
   "outputs": [
    {
     "name": "stdout",
     "output_type": "stream",
     "text": [
      "<gensim.interfaces.TransformedCorpus object at 0x000001F7139816A0>\n"
     ]
    }
   ],
   "source": [
    "tfidf = TfidfModel(df['bow'])\n",
    "td_corpus = tfidf[df['bow']]\n",
    "print(td_corpus)"
   ]
  },
  {
   "cell_type": "code",
   "execution_count": 84,
   "metadata": {},
   "outputs": [],
   "source": [
    "model_tf = LdaModel(td_corpus, id2word=dict_df, num_topics=10)"
   ]
  },
  {
   "cell_type": "code",
   "execution_count": 85,
   "metadata": {
    "scrolled": true
   },
   "outputs": [
    {
     "data": {
      "text/plain": [
       "[(2,\n",
       "  '0.001*\"education\" + 0.001*\"girl\" + 0.001*\"summer\" + 0.001*\"woman\" + 0.001*\"vacation\"'),\n",
       " (4,\n",
       "  '0.001*\"cleanliness\" + 0.001*\"money\" + 0.001*\"hobby\" + 0.001*\"gardening\" + 0.001*\"bank\"'),\n",
       " (1,\n",
       "  '0.001*\"village\" + 0.001*\"road\" + 0.001*\"pollution\" + 0.001*\"city\" + 0.001*\"mother\"'),\n",
       " (8,\n",
       "  '0.001*\"deforestation\" + 0.001*\"sport\" + 0.001*\"flag\" + 0.001*\"india\" + 0.001*\"soil\"'),\n",
       " (9,\n",
       "  '0.001*\"library\" + 0.001*\"waste\" + 0.001*\"health\" + 0.001*\"nature\" + 0.001*\"gandhi\"')]"
      ]
     },
     "execution_count": 85,
     "metadata": {},
     "output_type": "execute_result"
    }
   ],
   "source": [
    "model_tf.print_topics(num_topics=5, num_words=5)"
   ]
  },
  {
   "cell_type": "code",
   "execution_count": 86,
   "metadata": {},
   "outputs": [],
   "source": [
    "from gensim.models import CoherenceModel"
   ]
  },
  {
   "cell_type": "code",
   "execution_count": 87,
   "metadata": {},
   "outputs": [
    {
     "name": "stdout",
     "output_type": "stream",
     "text": [
      "\n",
      "Coherence Score:  0.264925552910915\n"
     ]
    }
   ],
   "source": [
    "# Compute Coherence Score\n",
    "coherence_model_lda = CoherenceModel(model=model, texts=df['List'], dictionary=dict_df, coherence='c_v')\n",
    "coherence_lda = coherence_model_lda.get_coherence()\n",
    "print('\\nCoherence Score: ', coherence_lda)"
   ]
  },
  {
   "cell_type": "markdown",
   "metadata": {},
   "source": [
    "# Okay. So our model is pretty bad. We will still test it out"
   ]
  },
  {
   "cell_type": "code",
   "execution_count": 60,
   "metadata": {},
   "outputs": [
    {
     "name": "stdout",
     "output_type": "stream",
     "text": [
      "Social media basically means any human communication or sharing information on internet that occurs \n"
     ]
    }
   ],
   "source": [
    "link = essay_links[101]\n",
    "essay_data = urllib.request.urlopen(link)\n",
    "soup = BeautifulSoup(essay_data, 'lxml')\n",
    "#print(soup.title)\n",
    "par = soup.find(name = 'div', attrs=\"post-content entry-content\")\n",
    "paras = par.find_all(name='p')\n",
    "Document_text=''\n",
    "for p in paras:\n",
    "    Document_text+=p.get_text().strip()+' '\n",
    "    s=re.sub('<!--(.*?)-->', '',Document_text )\n",
    "        \n",
    "print(s[:100])"
   ]
  },
  {
   "cell_type": "code",
   "execution_count": 61,
   "metadata": {},
   "outputs": [
    {
     "data": {
      "text/plain": [
       "'social medium basically mean human communication sharing information internet occurs medium computer'"
      ]
     },
     "execution_count": 61,
     "metadata": {},
     "output_type": "execute_result"
    }
   ],
   "source": [
    "clean_test = clean(s)\n",
    "clean_test[:100]"
   ]
  },
  {
   "cell_type": "code",
   "execution_count": 62,
   "metadata": {},
   "outputs": [
    {
     "data": {
      "text/plain": [
       "['social',\n",
       " 'medium',\n",
       " 'basically',\n",
       " 'mean',\n",
       " 'human',\n",
       " 'communication',\n",
       " 'sharing',\n",
       " 'information',\n",
       " 'internet',\n",
       " 'occurs']"
      ]
     },
     "execution_count": 62,
     "metadata": {},
     "output_type": "execute_result"
    }
   ],
   "source": [
    "clean_test_list = clean_test.split()\n",
    "clean_test_list[:10]"
   ]
  },
  {
   "cell_type": "code",
   "execution_count": 63,
   "metadata": {},
   "outputs": [],
   "source": [
    "# taking same dictionary we will create bow\n",
    "bow_test = dict_df.doc2bow(clean_test_list)"
   ]
  },
  {
   "cell_type": "code",
   "execution_count": 64,
   "metadata": {},
   "outputs": [
    {
     "name": "stdout",
     "output_type": "stream",
     "text": [
      "Score:  0.794   Topics:  0.015*\"life\" + 0.013*\"people\" + 0.009*\"time\" + 0.007*\"essay\" + 0.006*\"india\"\n",
      "Score:  0.087   Topics:  0.012*\"country\" + 0.012*\"people\" + 0.009*\"india\" + 0.008*\"also\" + 0.008*\"day\"\n",
      "Score:  0.057   Topics:  0.021*\"time\" + 0.012*\"people\" + 0.009*\"life\" + 0.009*\"one\" + 0.008*\"good\"\n",
      "Score:  0.042   Topics:  0.010*\"life\" + 0.010*\"india\" + 0.009*\"people\" + 0.007*\"also\" + 0.006*\"country\"\n",
      "Score:  0.017   Topics:  0.016*\"people\" + 0.010*\"life\" + 0.007*\"country\" + 0.007*\"india\" + 0.007*\"also\"\n"
     ]
    }
   ],
   "source": [
    "# LDA model on BOW\n",
    "#print(sorted(model[bow_test], key=lambda tup: -1*tup[1]))\n",
    "tups= sorted(model[bow_test], key=lambda tup: -1*tup[1])\n",
    "for index, score in tups:\n",
    "    \n",
    "    print('Score: ', round(score, 3), '  Topics: ',model.print_topic(index, topn=5))"
   ]
  },
  {
   "cell_type": "code",
   "execution_count": 65,
   "metadata": {},
   "outputs": [
    {
     "name": "stdout",
     "output_type": "stream",
     "text": [
      "Score:  0.612   Topics:  0.002*\"education\" + 0.001*\"pollution\" + 0.001*\"tree\" + 0.001*\"sport\" + 0.001*\"science\"\n",
      "Score:  0.355   Topics:  0.001*\"warming\" + 0.001*\"global\" + 0.001*\"woman\" + 0.001*\"labour\" + 0.001*\"poverty\"\n",
      "Score:  0.032   Topics:  0.001*\"knowledge\" + 0.001*\"plastic\" + 0.001*\"resource\" + 0.001*\"bag\" + 0.001*\"pollution\"\n"
     ]
    }
   ],
   "source": [
    "tups= sorted(model_tf[bow_test], key=lambda tup: -1*tup[1])\n",
    "for index, score in tups:\n",
    "    \n",
    "    print('Score: ', round(score, 3), '  Topics: ',model_tf.print_topic(index, topn=5))"
   ]
  },
  {
   "cell_type": "markdown",
   "metadata": {},
   "source": [
    "## From our model the topic could have words like \n",
    "- youth, farmer, technology, science. patriotism\n",
    "\n",
    "- country, india, education, school, people \n",
    "\n",
    "We will see ourselves now to check to what extent is it correct."
   ]
  },
  {
   "cell_type": "code",
   "execution_count": 66,
   "metadata": {},
   "outputs": [
    {
     "data": {
      "text/plain": [
       "'https://www.indiacelebrating.com/essay/essay-on-social-media/'"
      ]
     },
     "execution_count": 66,
     "metadata": {},
     "output_type": "execute_result"
    }
   ],
   "source": [
    "essay_links[101]"
   ]
  },
  {
   "cell_type": "markdown",
   "metadata": {},
   "source": [
    "Well topic was \"Social Media\" and our model again failed miserably"
   ]
  },
  {
   "cell_type": "code",
   "execution_count": null,
   "metadata": {},
   "outputs": [],
   "source": []
  },
  {
   "cell_type": "code",
   "execution_count": 67,
   "metadata": {},
   "outputs": [
    {
     "name": "stdout",
     "output_type": "stream",
     "text": [
      "Everyone’s life is extremely dependent on the scientific inventions and modern technology. Lives of \n"
     ]
    }
   ],
   "source": [
    "link = essay_links[100]\n",
    "essay_data = urllib.request.urlopen(link)\n",
    "soup = BeautifulSoup(essay_data, 'lxml')\n",
    "#print(soup.title)\n",
    "par = soup.find(name = 'div', attrs=\"post-content entry-content\")\n",
    "paras = par.find_all(name='p')\n",
    "Document_text=''\n",
    "for p in paras:\n",
    "    Document_text+=p.get_text().strip()+' '\n",
    "    s=re.sub('<!--(.*?)-->', '',Document_text )\n",
    "        \n",
    "print(s[:100])"
   ]
  },
  {
   "cell_type": "code",
   "execution_count": 68,
   "metadata": {},
   "outputs": [],
   "source": [
    "clean_test = clean(s)\n",
    "clean_test_list = clean_test.split()"
   ]
  },
  {
   "cell_type": "code",
   "execution_count": 69,
   "metadata": {},
   "outputs": [
    {
     "name": "stdout",
     "output_type": "stream",
     "text": [
      "Score:  0.568   Topics:  0.017*\"life\" + 0.013*\"people\" + 0.011*\"day\" + 0.008*\"time\" + 0.007*\"u\"\n",
      "Score:  0.278   Topics:  0.011*\"life\" + 0.008*\"essay\" + 0.008*\"warming\" + 0.007*\"water\" + 0.007*\"people\"\n",
      "Score:  0.116   Topics:  0.012*\"country\" + 0.012*\"people\" + 0.009*\"india\" + 0.008*\"also\" + 0.008*\"day\"\n",
      "Score:  0.019   Topics:  0.012*\"life\" + 0.008*\"day\" + 0.007*\"mother\" + 0.007*\"essay\" + 0.007*\"warming\"\n",
      "Score:  0.012   Topics:  0.021*\"people\" + 0.015*\"pollution\" + 0.014*\"life\" + 0.014*\"india\" + 0.008*\"country\"\n"
     ]
    }
   ],
   "source": [
    "# taking same dictionary we will create bow\n",
    "bow_test = dict_df.doc2bow(clean_test_list)\n",
    "tups= sorted(model[bow_test], key=lambda tup: -1*tup[1])\n",
    "\n",
    "# LDA model on BOW\n",
    "#print(sorted(model[bow_test], key=lambda tup: -1*tup[1]))\n",
    "for index, score in tups:    \n",
    "    print('Score: ', round(score, 3), '  Topics: ',model.print_topic(index, topn=5))"
   ]
  },
  {
   "cell_type": "code",
   "execution_count": 70,
   "metadata": {},
   "outputs": [
    {
     "name": "stdout",
     "output_type": "stream",
     "text": [
      "Score:  0.999   Topics:  0.002*\"education\" + 0.001*\"pollution\" + 0.001*\"tree\" + 0.001*\"sport\" + 0.001*\"science\"\n"
     ]
    }
   ],
   "source": [
    "tups= sorted(model_tf[bow_test], key=lambda tup: -1*tup[1])\n",
    "for index, score in tups:\n",
    "    \n",
    "    print('Score: ', round(score, 3), '  Topics: ',model_tf.print_topic(index, topn=5))"
   ]
  },
  {
   "cell_type": "code",
   "execution_count": 71,
   "metadata": {},
   "outputs": [
    {
     "data": {
      "text/plain": [
       "'https://www.indiacelebrating.com/essay/essay-on-wonders-of-science/'"
      ]
     },
     "execution_count": 71,
     "metadata": {},
     "output_type": "execute_result"
    }
   ],
   "source": [
    "essay_links[100]"
   ]
  },
  {
   "cell_type": "markdown",
   "metadata": {},
   "source": [
    "## So once trained our model can successfully identify the topic on known text but not for the unknown passage. "
   ]
  },
  {
   "cell_type": "markdown",
   "metadata": {},
   "source": [
    "Let us save the df to a file so that we don't have to start from scratch again'"
   ]
  },
  {
   "cell_type": "code",
   "execution_count": 92,
   "metadata": {},
   "outputs": [],
   "source": [
    "df.to_csv('Scrapped_data.csv', index=False)"
   ]
  },
  {
   "cell_type": "code",
   "execution_count": 96,
   "metadata": {},
   "outputs": [],
   "source": [
    "#pd.read_csv('Scrapped_data.csv')"
   ]
  },
  {
   "cell_type": "markdown",
   "metadata": {},
   "source": [
    "# We will improve it in part 3"
   ]
  },
  {
   "cell_type": "code",
   "execution_count": 97,
   "metadata": {},
   "outputs": [],
   "source": [
    "test_data = list()\n",
    "for link in essay_links[360:]:\n",
    "    essay_data = urllib.request.urlopen(link)\n",
    "    soup = BeautifulSoup(essay_data, 'lxml')\n",
    "    #print(soup.title)\n",
    "    par = soup.find(name = 'div', attrs=\"post-content entry-content\")\n",
    "    paras = par.find_all(name='p')\n",
    "    Document_text=''\n",
    "    for p in paras:\n",
    "        Document_text+=p.get_text().strip()+' '\n",
    "        Document_text=re.sub('<!--(.*?)-->', '',Document_text )\n",
    "        \n",
    "    test_data.append(Document_text)"
   ]
  },
  {
   "cell_type": "code",
   "execution_count": 101,
   "metadata": {},
   "outputs": [
    {
     "data": {
      "text/html": [
       "<div>\n",
       "<style scoped>\n",
       "    .dataframe tbody tr th:only-of-type {\n",
       "        vertical-align: middle;\n",
       "    }\n",
       "\n",
       "    .dataframe tbody tr th {\n",
       "        vertical-align: top;\n",
       "    }\n",
       "\n",
       "    .dataframe thead th {\n",
       "        text-align: right;\n",
       "    }\n",
       "</style>\n",
       "<table border=\"1\" class=\"dataframe\">\n",
       "  <thead>\n",
       "    <tr style=\"text-align: right;\">\n",
       "      <th></th>\n",
       "      <th>Data</th>\n",
       "    </tr>\n",
       "  </thead>\n",
       "  <tbody>\n",
       "    <tr>\n",
       "      <th>0</th>\n",
       "      <td>This is basically a disease that involves abno...</td>\n",
       "    </tr>\n",
       "    <tr>\n",
       "      <th>1</th>\n",
       "      <td>Yoga – An ancient form of exercise which evolv...</td>\n",
       "    </tr>\n",
       "    <tr>\n",
       "      <th>2</th>\n",
       "      <td>Happiness is something which is difficult to d...</td>\n",
       "    </tr>\n",
       "    <tr>\n",
       "      <th>3</th>\n",
       "      <td>Health refers to a person’s physical, mental a...</td>\n",
       "    </tr>\n",
       "    <tr>\n",
       "      <th>4</th>\n",
       "      <td>Addiction of anything is bad – be it a drug, a...</td>\n",
       "    </tr>\n",
       "  </tbody>\n",
       "</table>\n",
       "</div>"
      ],
      "text/plain": [
       "                                                Data\n",
       "0  This is basically a disease that involves abno...\n",
       "1  Yoga – An ancient form of exercise which evolv...\n",
       "2  Happiness is something which is difficult to d...\n",
       "3  Health refers to a person’s physical, mental a...\n",
       "4  Addiction of anything is bad – be it a drug, a..."
      ]
     },
     "execution_count": 101,
     "metadata": {},
     "output_type": "execute_result"
    }
   ],
   "source": [
    "df_test = pd.DataFrame(columns=['Data'], data =test_data)\n",
    "df_test.head()"
   ]
  },
  {
   "cell_type": "code",
   "execution_count": 102,
   "metadata": {},
   "outputs": [],
   "source": [
    "df_test.to_csv('Scrapped_test.csv', index=False)"
   ]
  },
  {
   "cell_type": "code",
   "execution_count": null,
   "metadata": {},
   "outputs": [],
   "source": []
  }
 ],
 "metadata": {
  "kernelspec": {
   "display_name": "Python 3",
   "language": "python",
   "name": "python3"
  },
  "language_info": {
   "codemirror_mode": {
    "name": "ipython",
    "version": 3
   },
   "file_extension": ".py",
   "mimetype": "text/x-python",
   "name": "python",
   "nbconvert_exporter": "python",
   "pygments_lexer": "ipython3",
   "version": "3.6.4"
  }
 },
 "nbformat": 4,
 "nbformat_minor": 2
}
