{
 "cells": [
  {
   "cell_type": "markdown",
   "metadata": {},
   "source": [
    "# Topic Modelling\n",
    "\n",
    "It is different from rule-based text mining approaches that use regular expressions or dictionary based keyword searching techniques. It is an unsupervised approach used for finding and observing the bunch of words in large clusters of texts.\n",
    "\n",
    "Topic Models are very useful for the purpose for document clustering, organizing large blocks of textual data, information retrieval from unstructured text and feature selection."
   ]
  },
  {
   "cell_type": "markdown",
   "metadata": {},
   "source": [
    "#### Tasks to perform \n",
    "- Preparing documents\n",
    "- Cleaning and Preprocessing\n",
    "- Preparing document term matrix\n",
    "- Running LDA(Latent Dirichlet Allocation) model\n",
    "- Improve results\n"
   ]
  },
  {
   "cell_type": "markdown",
   "metadata": {},
   "source": [
    "## Preparing documents\n",
    "\n",
    "Passage is taken from https://www.learncbse.in/unseen-passage-for-class-7/"
   ]
  },
  {
   "cell_type": "markdown",
   "metadata": {},
   "source": [
    "#### Previous topic modelling output is not satisfactory\n",
    "\n",
    "We have to add full passages and try to make our model do the guess work on Topic of passage.\n",
    "\n",
    "We will check if our model will pass english unseen passage exam and answer the questions students have to answer."
   ]
  },
  {
   "cell_type": "code",
   "execution_count": 1,
   "metadata": {},
   "outputs": [
    {
     "data": {
      "text/html": [
       "<img src=\"tenor.gif\">"
      ],
      "text/plain": [
       "<IPython.core.display.HTML object>"
      ]
     },
     "execution_count": 1,
     "metadata": {},
     "output_type": "execute_result"
    }
   ],
   "source": [
    "def display_gif(fn):\n",
    "    from IPython import display\n",
    "    return display.HTML('<img src=\"{}\">'.format(fn))\n",
    "display_gif('tenor.gif')"
   ]
  },
  {
   "cell_type": "markdown",
   "metadata": {},
   "source": [
    "## Currently this model is not the most accurate bcoz it has not been trained with a big corpora.\n",
    "\n",
    "Our aim now is to improve it by feeding more training data. All of us students had read way too much than this model so of course we will be better than this model for now :)"
   ]
  },
  {
   "cell_type": "markdown",
   "metadata": {},
   "source": [
    "# Let the web scraping begin!!!\n",
    "\n",
    "from the site- https://www.indiacelebrating.com/essay/black-money-essay/"
   ]
  },
  {
   "cell_type": "code",
   "execution_count": 118,
   "metadata": {},
   "outputs": [],
   "source": [
    "import pandas as pd\n",
    "import matplotlib.pyplot as plt\n",
    "from bs4 import BeautifulSoup\n",
    "from wordcloud import WordCloud\n",
    "from nltk.corpus import stopwords"
   ]
  },
  {
   "cell_type": "code",
   "execution_count": 152,
   "metadata": {},
   "outputs": [],
   "source": [
    "import urllib\n",
    "import requests\n",
    "import re\n",
    "from nltk.stem import WordNetLemmatizer\n",
    "from gensim.models import LdaModel, TfidfModel\n",
    "from gensim.corpora.dictionary import Dictionary"
   ]
  },
  {
   "cell_type": "code",
   "execution_count": 4,
   "metadata": {},
   "outputs": [],
   "source": [
    "url=\"https://www.indiacelebrating.com/essay/black-money-essay/\"\n",
    "req = urllib.request.urlopen(url)"
   ]
  },
  {
   "cell_type": "code",
   "execution_count": 5,
   "metadata": {},
   "outputs": [],
   "source": [
    "soup = BeautifulSoup(req,'lxml')"
   ]
  },
  {
   "cell_type": "code",
   "execution_count": 6,
   "metadata": {},
   "outputs": [
    {
     "data": {
      "text/plain": [
       "bs4.BeautifulSoup"
      ]
     },
     "execution_count": 6,
     "metadata": {},
     "output_type": "execute_result"
    }
   ],
   "source": [
    "type(soup)"
   ]
  },
  {
   "cell_type": "code",
   "execution_count": 7,
   "metadata": {},
   "outputs": [
    {
     "data": {
      "text/plain": [
       "<title>Long and Short Essay on Black Money in English for Children and Students</title>"
      ]
     },
     "execution_count": 7,
     "metadata": {},
     "output_type": "execute_result"
    }
   ],
   "source": [
    "# prettify() gives HTML text of the page\n",
    "# print(soup.prettify())\n",
    "soup.find('title')"
   ]
  },
  {
   "cell_type": "code",
   "execution_count": 8,
   "metadata": {},
   "outputs": [
    {
     "data": {
      "text/plain": [
       "[<h3>Black Money Essay – 1 (200 words)</h3>,\n",
       " <h3>Black Money Essay – 2 (300 words)</h3>,\n",
       " <h3>Black Money Essay – 3 (400 words)</h3>,\n",
       " <h3>Black Money Essay – 4 (500 words)</h3>,\n",
       " <h3>Black Money Essay – 5 (600 words)</h3>,\n",
       " <h3>About The Author</h3>,\n",
       " <h3>Related Posts</h3>]"
      ]
     },
     "execution_count": 8,
     "metadata": {},
     "output_type": "execute_result"
    }
   ],
   "source": [
    "soup.find_all('h3')"
   ]
  },
  {
   "cell_type": "code",
   "execution_count": 9,
   "metadata": {},
   "outputs": [],
   "source": [
    "#Gives all the text which exists between tags\n",
    "#print(soup.get_text())"
   ]
  },
  {
   "cell_type": "markdown",
   "metadata": {},
   "source": [
    "Clearly what we are getting from get_text is gibberish and if we start cleaning it then this exercise will be of no use. ** Our aim is to get Topic without mentioning topic anywhere.**"
   ]
  },
  {
   "cell_type": "code",
   "execution_count": 79,
   "metadata": {},
   "outputs": [],
   "source": []
  },
  {
   "cell_type": "code",
   "execution_count": 11,
   "metadata": {},
   "outputs": [],
   "source": [
    "link = requests.get(\"https://www.indiacelebrating.com/essay/black-money-essay/\")"
   ]
  },
  {
   "cell_type": "code",
   "execution_count": 12,
   "metadata": {},
   "outputs": [],
   "source": [
    "#link = requests.get(\"https://www.indiacelebrating.com/essay/b\")"
   ]
  },
  {
   "cell_type": "code",
   "execution_count": 13,
   "metadata": {},
   "outputs": [
    {
     "data": {
      "text/plain": [
       "<Response [200]>"
      ]
     },
     "execution_count": 13,
     "metadata": {},
     "output_type": "execute_result"
    }
   ],
   "source": [
    "link"
   ]
  },
  {
   "cell_type": "code",
   "execution_count": 14,
   "metadata": {},
   "outputs": [],
   "source": [
    "# prints html content\n",
    "#print(link.content)"
   ]
  },
  {
   "cell_type": "code",
   "execution_count": 15,
   "metadata": {},
   "outputs": [],
   "source": [
    "# prints pretty HTML\n",
    "#print(link.text)"
   ]
  },
  {
   "cell_type": "markdown",
   "metadata": {},
   "source": [
    "This is insane! I was not expecting it to be filled it with so much junk. Let us stick with urllib for now."
   ]
  },
  {
   "cell_type": "markdown",
   "metadata": {},
   "source": [
    "So there is a pattern in this page. all < p > under < div class= \"post-content entry-content\" > are our area of interest along with some google ads. We will add those in stopwords. \n",
    "I have 2 approaches here-\n",
    "1. get all p's \n",
    "2. get div with class= \"post-content entry-content\"\n",
    "\n",
    "I will try first with the one with all p's."
   ]
  },
  {
   "cell_type": "code",
   "execution_count": 48,
   "metadata": {},
   "outputs": [
    {
     "data": {
      "text/plain": [
       "list_iterator"
      ]
     },
     "execution_count": 48,
     "metadata": {},
     "output_type": "execute_result"
    }
   ],
   "source": [
    "ch = soup.children\n",
    "type(ch)\n",
    "\n",
    "# ch has list of all child tags of html page\n",
    "\n",
    "#for i in ch:\n",
    "#    print(i)"
   ]
  },
  {
   "cell_type": "code",
   "execution_count": 60,
   "metadata": {},
   "outputs": [
    {
     "name": "stdout",
     "output_type": "stream",
     "text": [
      "84\n"
     ]
    }
   ],
   "source": [
    "par = soup.find(name = 'div', attrs=\"post-content entry-content\")\n",
    "\n",
    "print(len(par))\n",
    "#print(par) \n",
    "#instead of taking this parent we will take all p's"
   ]
  },
  {
   "cell_type": "code",
   "execution_count": 63,
   "metadata": {},
   "outputs": [],
   "source": [
    "paras = par.find_all('p')"
   ]
  },
  {
   "cell_type": "code",
   "execution_count": 64,
   "metadata": {},
   "outputs": [],
   "source": [
    "#paras = soup.find_all(name='p')"
   ]
  },
  {
   "cell_type": "code",
   "execution_count": 65,
   "metadata": {},
   "outputs": [
    {
     "data": {
      "text/plain": [
       "[<p>Black money is basically the accumulation of income obtained illegally. It is not declared for tax purpose. The issue of black money is prevalent in India and the government has come up with stern measures to deal with it lately. The money earned via unlawful means is known as black money. There are various sources of generating black money and people have been practicing these since decades despite the negative impact they have on the society.</p>,\n",
       " <p>Here are essays on Black Money of varying lengths to help you with the topic in your exam, class tests or competitions. You can choose any Black Money essay according to your need and interest:</p>,\n",
       " <p>The problem of black money is not new to our country. Money generated via various illegal sources and the attempt to hide it from the government for the purpose of tax evasion has been a common practice here.</p>,\n",
       " <p>The problem of black money has given rise to a number of other issues in India. False information about the country’s economy is among the major issues being faced due to black money. The government is completely dependent on the tax revenue and evasion of tax to accumulate black money has a major impact on the nation’s fiscal system. Apart from the impact it has on the nation as a whole this also impacts the general public as it is the basis of social and economic disparity in the country.</p>,\n",
       " <p>There are a number of causes of accumulation of black money. The high tax rate set by the government is said to be the main reason for it. Other reasons include the different rates set for excise duty, the price control policy, the real estate market, inflation and quota system. People look for various ways to hide their income from the government and get away with it.</p>]"
      ]
     },
     "execution_count": 65,
     "metadata": {},
     "output_type": "execute_result"
    }
   ],
   "source": [
    "paras[:5]"
   ]
  },
  {
   "cell_type": "markdown",
   "metadata": {},
   "source": [
    "We will get data between < p > and < /p >. As type of each element of paras is tag, that means we can get text from it :)"
   ]
  },
  {
   "cell_type": "code",
   "execution_count": 66,
   "metadata": {},
   "outputs": [
    {
     "data": {
      "text/plain": [
       "bs4.element.Tag"
      ]
     },
     "execution_count": 66,
     "metadata": {},
     "output_type": "execute_result"
    }
   ],
   "source": [
    "type(paras[0])\n",
    "#re.sub('^<p></p>$', '', paras[0])"
   ]
  },
  {
   "cell_type": "code",
   "execution_count": 67,
   "metadata": {},
   "outputs": [
    {
     "data": {
      "text/plain": [
       "'Black money is basically the accumulation of income obtained illegally. It is not declared for tax purpose. The issue of black money is prevalent in India and the government has come up with stern measures to deal with it lately. The money earned via unlawful means is known as black money. There are various sources of generating black money and people have been practicing these since decades despite the negative impact they have on the society.'"
      ]
     },
     "execution_count": 67,
     "metadata": {},
     "output_type": "execute_result"
    }
   ],
   "source": [
    "paras[0].get_text()"
   ]
  },
  {
   "cell_type": "markdown",
   "metadata": {},
   "source": [
    "I will subject all the data coming from this url as 1 document. So all text coming from p's will be appended and added as 1 row in df. We have more data coming from other url's right after we figure this one out."
   ]
  },
  {
   "cell_type": "code",
   "execution_count": 69,
   "metadata": {},
   "outputs": [
    {
     "name": "stdout",
     "output_type": "stream",
     "text": [
      "Black money is basically the accumulation of income obtained illegally. It is not declared for tax purpose. The issue of black money is prevalent in India and the government has come up with stern measures to deal with it lately. The money earned via unlawful means is known as black money. There are various sources of generating black money and people have been practicing these since decades despite the negative impact they have on the society.\n",
      "Here are essays on Black Money of varying lengths to help you with the topic in your exam, class tests or competitions. You can choose any Black Money essay according to your need and interest:\n"
     ]
    }
   ],
   "source": [
    "Document_text=''\n",
    "\n",
    "for p in paras[:2]:\n",
    "    print(p.get_text())"
   ]
  },
  {
   "cell_type": "markdown",
   "metadata": {},
   "source": [
    "Looks like it will need some cleaning. Nevermind. We will put it to df."
   ]
  },
  {
   "cell_type": "code",
   "execution_count": 70,
   "metadata": {},
   "outputs": [],
   "source": [
    "Document_text=''\n",
    "\n",
    "for p in paras:\n",
    "    Document_text+=p.get_text().strip('\\n')+' '"
   ]
  },
  {
   "cell_type": "code",
   "execution_count": 71,
   "metadata": {},
   "outputs": [
    {
     "data": {
      "text/plain": [
       "'Black money is basically the accumulation of income obtained illegally. It is not declared for tax p'"
      ]
     },
     "execution_count": 71,
     "metadata": {},
     "output_type": "execute_result"
    }
   ],
   "source": [
    "Document_text[:100]"
   ]
  },
  {
   "cell_type": "code",
   "execution_count": 77,
   "metadata": {},
   "outputs": [
    {
     "data": {
      "text/plain": [
       "'is huge amount of accumulation of black money. Conclusion The government has taken certain steps to eradicate the issue of black money. The recent and one of the major steps taken in this direction was demonetization. While this step helped in eliminating black money to some extent many people condemned it. However, even if it helped, it definitely was not enough. A lot more needs to be done in order to stop this ill practice. The government must look for more effective measures to curb this problem. And remember, the government alone cannot bring this issue to an end. It can only be curbed if each and every citizen of the country contributes his bit. \\xa0 \\xa0 Related Information: Essay on Money Essay on Bank Corruption Essay Essay on Terrorism Essay on Poverty \\xa0 '"
      ]
     },
     "execution_count": 77,
     "metadata": {},
     "output_type": "execute_result"
    }
   ],
   "source": [
    "Document_text[9500:]\n",
    "#s=re.sub('\\n*\\_*', '', Document_text)\n",
    "#s[10500:]\n",
    "#re.sub('<!--[a-zA-Z0-9]*?-->', '', s)"
   ]
  },
  {
   "cell_type": "code",
   "execution_count": 81,
   "metadata": {},
   "outputs": [
    {
     "data": {
      "text/plain": [
       "'is huge amount of accumulation of black money. Conclusion The government has taken certain steps to eradicate the issue of black money. The recent and one of the major steps taken in this direction was demonetization. While this step helped in eliminating black money to some extent many people condemned it. However, even if it helped, it definitely was not enough. A lot more needs to be done in order to stop this ill practice. The government must look for more effective measures to curb this problem. And remember, the government alone cannot bring this issue to an end. It can only be curbed if each and every citizen of the country contributes his bit. \\xa0 \\xa0 Related Information: Essay on Money Essay on Bank Corruption Essay Essay on Terrorism Essay on Poverty \\xa0 '"
      ]
     },
     "execution_count": 81,
     "metadata": {},
     "output_type": "execute_result"
    }
   ],
   "source": [
    "# removing anything between html comment tags\n",
    "s=re.sub('<!--(.*?)-->', '',Document_text)\n",
    "s[9500:]"
   ]
  },
  {
   "cell_type": "markdown",
   "metadata": {},
   "source": [
    "Yup. This successfully removes our comments. (This one is not having comments but previous < p >'s had and this worked perfectly fine there).\n",
    "\n",
    "Time to put it all together in dataFrame df."
   ]
  },
  {
   "cell_type": "markdown",
   "metadata": {},
   "source": [
    "#### Getting list of essays\n",
    "\n",
    "All td elements have links to essays. So we will get our essay list from there."
   ]
  },
  {
   "cell_type": "code",
   "execution_count": 82,
   "metadata": {},
   "outputs": [],
   "source": [
    "home_url = 'https://www.indiacelebrating.com/english-essay/'\n",
    "home_page = urllib.request.urlopen(home_url)"
   ]
  },
  {
   "cell_type": "code",
   "execution_count": 83,
   "metadata": {},
   "outputs": [],
   "source": [
    "soup = BeautifulSoup(home_page, 'lxml')\n",
    "#soup"
   ]
  },
  {
   "cell_type": "code",
   "execution_count": 84,
   "metadata": {},
   "outputs": [
    {
     "data": {
      "text/plain": [
       "[<td align=\"LEFT\" bgcolor=\"#CCCCCC\" height=\"17\" width=\"255\"><strong>General Essay<br/>\n",
       " </strong></td>,\n",
       " <td align=\"LEFT\" bgcolor=\"#CCCCCC\" width=\"177\"></td>,\n",
       " <td align=\"LEFT\" height=\"17\" width=\"255\"><a href=\"https://www.indiacelebrating.com/essay/generation-gap-essay/\">Essay on Generation Gap</a></td>,\n",
       " <td align=\"LEFT\" width=\"177\"><a href=\"https://www.indiacelebrating.com/essay/globalization-essay/\">Globalization Essay</a></td>,\n",
       " <td align=\"LEFT\" height=\"17\" width=\"255\"><a href=\"https://www.indiacelebrating.com/essay/music-essay/\">Essay on Music</a></td>]"
      ]
     },
     "execution_count": 84,
     "metadata": {},
     "output_type": "execute_result"
    }
   ],
   "source": [
    "tds = soup.find_all('td')\n",
    "tds[:5]"
   ]
  },
  {
   "cell_type": "code",
   "execution_count": 85,
   "metadata": {},
   "outputs": [
    {
     "name": "stdout",
     "output_type": "stream",
     "text": [
      "tds[2]::  <td align=\"LEFT\" height=\"17\" width=\"255\"><a href=\"https://www.indiacelebrating.com/essay/generation-gap-essay/\">Essay on Generation Gap</a></td>\n",
      "\n",
      "type(tds[2])::  <class 'bs4.element.Tag'>\n",
      "\n",
      "type(tds[2].contents)::  <class 'list'>\n",
      "\n",
      " <class 'bs4.element.Tag'> {'href': 'https://www.indiacelebrating.com/essay/generation-gap-essay/'}\n"
     ]
    }
   ],
   "source": [
    "print('tds[2]:: ',tds[2])\n",
    "print('\\ntype(tds[2]):: '.ljust(15), type(tds[2]))\n",
    "print('\\ntype(tds[2].contents):: '.ljust(15), type(tds[2].contents))\n",
    "for d in tds[2].children:\n",
    "    print('\\n', type(d), d.attrs)"
   ]
  },
  {
   "cell_type": "code",
   "execution_count": 86,
   "metadata": {},
   "outputs": [],
   "source": [
    "essay_links = list()\n",
    "for td in tds:\n",
    "    for d in td.children:\n",
    "        if d.attrs:\n",
    "            #essay_links.append([v for v in d.attrs.values()])\n",
    "            essay_links.append(d.attrs['href'])"
   ]
  },
  {
   "cell_type": "code",
   "execution_count": 91,
   "metadata": {},
   "outputs": [
    {
     "data": {
      "text/plain": [
       "['https://www.indiacelebrating.com/essay/generation-gap-essay/',\n",
       " 'https://www.indiacelebrating.com/essay/globalization-essay/',\n",
       " 'https://www.indiacelebrating.com/essay/music-essay/',\n",
       " 'https://www.indiacelebrating.com/essay/my-hobby-essay/',\n",
       " 'https://www.indiacelebrating.com/essay/money-essay/']"
      ]
     },
     "execution_count": 91,
     "metadata": {},
     "output_type": "execute_result"
    }
   ],
   "source": [
    "essay_links[:5]"
   ]
  },
  {
   "cell_type": "code",
   "execution_count": 89,
   "metadata": {},
   "outputs": [
    {
     "data": {
      "text/plain": [
       "367"
      ]
     },
     "execution_count": 89,
     "metadata": {},
     "output_type": "execute_result"
    }
   ],
   "source": [
    "len(essay_links)#print(essay_links[:100])"
   ]
  },
  {
   "cell_type": "markdown",
   "metadata": {},
   "source": [
    "Considering that there might be links which are not directed to essays, we have roughly 360 essays/documents. \n",
    "\n",
    "We can keep 100 for training for now and take 101th for testing."
   ]
  },
  {
   "cell_type": "code",
   "execution_count": 92,
   "metadata": {},
   "outputs": [],
   "source": [
    "all_data = list()\n",
    "for link in essay_links[:100]:\n",
    "    essay_data = urllib.request.urlopen(link)\n",
    "    soup = BeautifulSoup(essay_data, 'lxml')\n",
    "    #print(soup.title)\n",
    "    par = soup.find(name = 'div', attrs=\"post-content entry-content\")\n",
    "    paras = par.find_all(name='p')\n",
    "    Document_text=''\n",
    "    for p in paras:\n",
    "        Document_text+=p.get_text().strip()+' '\n",
    "        Document_text=re.sub('<!--(.*?)-->', '',Document_text )\n",
    "        \n",
    "    all_data.append(Document_text)"
   ]
  },
  {
   "cell_type": "code",
   "execution_count": 93,
   "metadata": {},
   "outputs": [
    {
     "data": {
      "text/plain": [
       "100"
      ]
     },
     "execution_count": 93,
     "metadata": {},
     "output_type": "execute_result"
    }
   ],
   "source": [
    "len(all_data)"
   ]
  },
  {
   "cell_type": "code",
   "execution_count": 127,
   "metadata": {},
   "outputs": [
    {
     "data": {
      "text/html": [
       "<div>\n",
       "<style scoped>\n",
       "    .dataframe tbody tr th:only-of-type {\n",
       "        vertical-align: middle;\n",
       "    }\n",
       "\n",
       "    .dataframe tbody tr th {\n",
       "        vertical-align: top;\n",
       "    }\n",
       "\n",
       "    .dataframe thead th {\n",
       "        text-align: right;\n",
       "    }\n",
       "</style>\n",
       "<table border=\"1\" class=\"dataframe\">\n",
       "  <thead>\n",
       "    <tr style=\"text-align: right;\">\n",
       "      <th></th>\n",
       "      <th>Data</th>\n",
       "    </tr>\n",
       "  </thead>\n",
       "  <tbody>\n",
       "    <tr>\n",
       "      <th>0</th>\n",
       "      <td>Generation Gap occurs when there is a consider...</td>\n",
       "    </tr>\n",
       "    <tr>\n",
       "      <th>1</th>\n",
       "      <td>Globalization is the process used by businesse...</td>\n",
       "    </tr>\n",
       "    <tr>\n",
       "      <th>2</th>\n",
       "      <td>Music is the art of expressing ideas and emoti...</td>\n",
       "    </tr>\n",
       "    <tr>\n",
       "      <th>3</th>\n",
       "      <td>Hobby is the favorite activity, habit or choic...</td>\n",
       "    </tr>\n",
       "    <tr>\n",
       "      <th>4</th>\n",
       "      <td>Money is the medium used by people to buy requ...</td>\n",
       "    </tr>\n",
       "  </tbody>\n",
       "</table>\n",
       "</div>"
      ],
      "text/plain": [
       "                                                Data\n",
       "0  Generation Gap occurs when there is a consider...\n",
       "1  Globalization is the process used by businesse...\n",
       "2  Music is the art of expressing ideas and emoti...\n",
       "3  Hobby is the favorite activity, habit or choic...\n",
       "4  Money is the medium used by people to buy requ..."
      ]
     },
     "execution_count": 127,
     "metadata": {},
     "output_type": "execute_result"
    }
   ],
   "source": [
    "df = pd.DataFrame(all_data, columns=['Data'])\n",
    "df.head()"
   ]
  },
  {
   "cell_type": "markdown",
   "metadata": {},
   "source": [
    "#### We will read back  data from df for cleaning"
   ]
  },
  {
   "cell_type": "code",
   "execution_count": null,
   "metadata": {},
   "outputs": [],
   "source": []
  },
  {
   "cell_type": "code",
   "execution_count": 128,
   "metadata": {},
   "outputs": [],
   "source": [
    "wc = WordCloud(width=1000, height=800, min_font_size=8, max_words=300)"
   ]
  },
  {
   "cell_type": "code",
   "execution_count": 99,
   "metadata": {},
   "outputs": [
    {
     "data": {
      "text/plain": [
       "<matplotlib.image.AxesImage at 0x266331830b8>"
      ]
     },
     "execution_count": 99,
     "metadata": {},
     "output_type": "execute_result"
    },
    {
     "data": {
      "image/png": "[encoded data removed]",
      "text/plain": [
       "<matplotlib.figure.Figure at 0x2663311cc18>"
      ]
     },
     "metadata": {},
     "output_type": "display_data"
    }
   ],
   "source": [
    "plt.figure(figsize=(10,8))\n",
    "plt.imshow(wc.generate_from_text(df['Data'][0]))"
   ]
  },
  {
   "cell_type": "code",
   "execution_count": 119,
   "metadata": {},
   "outputs": [
    {
     "data": {
      "text/plain": [
       "['i', 'me', 'my', 'myself', 'we']"
      ]
     },
     "execution_count": 119,
     "metadata": {},
     "output_type": "execute_result"
    }
   ],
   "source": [
    "#stopwords_list.extend(['select', 'page'])\n",
    "#re.sub('\\W+', ' ', df['Data'][0])\n",
    "stopword = stopwords.words('english')\n",
    "stopword[:5]"
   ]
  },
  {
   "cell_type": "code",
   "execution_count": 165,
   "metadata": {},
   "outputs": [],
   "source": [
    "lemm = WordNetLemmatizer()\n",
    "\n",
    "def clean(doc):\n",
    "    rem_punc = re.sub('\\W+', ' ', doc)\n",
    "    rem_stops = [word.lower() for word in rem_punc.split() if word.lower() not in stopword]\n",
    "    doc_lemm = ' '.join([lemm.lemmatize(word) for word in rem_stops])\n",
    "    \n",
    "    return doc_lemm"
   ]
  },
  {
   "cell_type": "code",
   "execution_count": 166,
   "metadata": {},
   "outputs": [],
   "source": [
    "df['Clean_Data'] = df['Data'].apply(clean)"
   ]
  },
  {
   "cell_type": "code",
   "execution_count": 167,
   "metadata": {},
   "outputs": [
    {
     "data": {
      "text/plain": [
       "0    generation gap occurs considerable difference ...\n",
       "1    globalization process used business organizati...\n",
       "2    music art expressing idea emotion significant ...\n",
       "3    hobby favorite activity habit choice person re...\n",
       "4    money medium used people buy required good ser...\n",
       "Name: Clean_Data, dtype: object"
      ]
     },
     "execution_count": 167,
     "metadata": {},
     "output_type": "execute_result"
    }
   ],
   "source": [
    "df['Clean_Data'][:5]"
   ]
  },
  {
   "cell_type": "code",
   "execution_count": 168,
   "metadata": {},
   "outputs": [],
   "source": [
    "df['List']=df['Clean_Data'].apply(lambda st:st.split())"
   ]
  },
  {
   "cell_type": "code",
   "execution_count": 169,
   "metadata": {},
   "outputs": [
    {
     "data": {
      "text/plain": [
       "['generation',\n",
       " 'gap',\n",
       " 'occurs',\n",
       " 'considerable',\n",
       " 'difference',\n",
       " 'age',\n",
       " 'entire',\n",
       " 'generation',\n",
       " 'two',\n",
       " 'people']"
      ]
     },
     "execution_count": 169,
     "metadata": {},
     "output_type": "execute_result"
    }
   ],
   "source": [
    "df['List'][0][:10]"
   ]
  },
  {
   "cell_type": "code",
   "execution_count": 170,
   "metadata": {},
   "outputs": [
    {
     "data": {
      "text/plain": [
       "<bound method Dictionary.keys of <gensim.corpora.dictionary.Dictionary object at 0x000002663D470828>>"
      ]
     },
     "execution_count": 170,
     "metadata": {},
     "output_type": "execute_result"
    }
   ],
   "source": [
    "dict_df = Dictionary(df['List'])\n",
    "dict_df.keys"
   ]
  },
  {
   "cell_type": "code",
   "execution_count": 171,
   "metadata": {},
   "outputs": [
    {
     "data": {
      "text/html": [
       "<div>\n",
       "<style scoped>\n",
       "    .dataframe tbody tr th:only-of-type {\n",
       "        vertical-align: middle;\n",
       "    }\n",
       "\n",
       "    .dataframe tbody tr th {\n",
       "        vertical-align: top;\n",
       "    }\n",
       "\n",
       "    .dataframe thead th {\n",
       "        text-align: right;\n",
       "    }\n",
       "</style>\n",
       "<table border=\"1\" class=\"dataframe\">\n",
       "  <thead>\n",
       "    <tr style=\"text-align: right;\">\n",
       "      <th></th>\n",
       "      <th>Data</th>\n",
       "      <th>Clean_Data</th>\n",
       "      <th>List</th>\n",
       "      <th>bow</th>\n",
       "    </tr>\n",
       "  </thead>\n",
       "  <tbody>\n",
       "    <tr>\n",
       "      <th>0</th>\n",
       "      <td>Generation Gap occurs when there is a consider...</td>\n",
       "      <td>generation gap occurs considerable difference ...</td>\n",
       "      <td>[generation, gap, occurs, considerable, differ...</td>\n",
       "      <td>[(0, 2), (1, 1), (2, 1), (3, 3), (4, 3), (5, 1...</td>\n",
       "    </tr>\n",
       "    <tr>\n",
       "      <th>1</th>\n",
       "      <td>Globalization is the process used by businesse...</td>\n",
       "      <td>globalization process used business organizati...</td>\n",
       "      <td>[globalization, process, used, business, organ...</td>\n",
       "      <td>[(9, 1), (11, 1), (12, 2), (16, 3), (19, 1), (...</td>\n",
       "    </tr>\n",
       "    <tr>\n",
       "      <th>2</th>\n",
       "      <td>Music is the art of expressing ideas and emoti...</td>\n",
       "      <td>music art expressing idea emotion significant ...</td>\n",
       "      <td>[music, art, expressing, idea, emotion, signif...</td>\n",
       "      <td>[(11, 2), (21, 1), (23, 1), (24, 10), (27, 5),...</td>\n",
       "    </tr>\n",
       "    <tr>\n",
       "      <th>3</th>\n",
       "      <td>Hobby is the favorite activity, habit or choic...</td>\n",
       "      <td>hobby favorite activity habit choice person re...</td>\n",
       "      <td>[hobby, favorite, activity, habit, choice, per...</td>\n",
       "      <td>[(11, 3), (12, 1), (17, 2), (23, 3), (24, 5), ...</td>\n",
       "    </tr>\n",
       "    <tr>\n",
       "      <th>4</th>\n",
       "      <td>Money is the medium used by people to buy requ...</td>\n",
       "      <td>money medium used people buy required good ser...</td>\n",
       "      <td>[money, medium, used, people, buy, required, g...</td>\n",
       "      <td>[(17, 1), (20, 1), (21, 2), (38, 1), (40, 4), ...</td>\n",
       "    </tr>\n",
       "  </tbody>\n",
       "</table>\n",
       "</div>"
      ],
      "text/plain": [
       "                                                Data  \\\n",
       "0  Generation Gap occurs when there is a consider...   \n",
       "1  Globalization is the process used by businesse...   \n",
       "2  Music is the art of expressing ideas and emoti...   \n",
       "3  Hobby is the favorite activity, habit or choic...   \n",
       "4  Money is the medium used by people to buy requ...   \n",
       "\n",
       "                                          Clean_Data  \\\n",
       "0  generation gap occurs considerable difference ...   \n",
       "1  globalization process used business organizati...   \n",
       "2  music art expressing idea emotion significant ...   \n",
       "3  hobby favorite activity habit choice person re...   \n",
       "4  money medium used people buy required good ser...   \n",
       "\n",
       "                                                List  \\\n",
       "0  [generation, gap, occurs, considerable, differ...   \n",
       "1  [globalization, process, used, business, organ...   \n",
       "2  [music, art, expressing, idea, emotion, signif...   \n",
       "3  [hobby, favorite, activity, habit, choice, per...   \n",
       "4  [money, medium, used, people, buy, required, g...   \n",
       "\n",
       "                                                 bow  \n",
       "0  [(0, 2), (1, 1), (2, 1), (3, 3), (4, 3), (5, 1...  \n",
       "1  [(9, 1), (11, 1), (12, 2), (16, 3), (19, 1), (...  \n",
       "2  [(11, 2), (21, 1), (23, 1), (24, 10), (27, 5),...  \n",
       "3  [(11, 3), (12, 1), (17, 2), (23, 3), (24, 5), ...  \n",
       "4  [(17, 1), (20, 1), (21, 2), (38, 1), (40, 4), ...  "
      ]
     },
     "execution_count": 171,
     "metadata": {},
     "output_type": "execute_result"
    }
   ],
   "source": [
    "df['bow'] = df['List'].apply(lambda x : dict_df.doc2bow(x))\n",
    "df.head()"
   ]
  },
  {
   "cell_type": "markdown",
   "metadata": {},
   "source": [
    "## Running LDA using Bag of Words"
   ]
  },
  {
   "cell_type": "code",
   "execution_count": 172,
   "metadata": {},
   "outputs": [],
   "source": [
    "model = LdaModel(df['bow'], id2word=dict_df)"
   ]
  },
  {
   "cell_type": "code",
   "execution_count": 173,
   "metadata": {},
   "outputs": [
    {
     "name": "stdout",
     "output_type": "stream",
     "text": [
      "[0.01 0.01 0.01 0.01 0.01 0.01 0.01 0.01 0.01 0.01]\n",
      "100\n"
     ]
    }
   ],
   "source": [
    "print(model.alpha[:10])\n",
    "print(len(model.alpha))"
   ]
  },
  {
   "cell_type": "code",
   "execution_count": 174,
   "metadata": {},
   "outputs": [
    {
     "data": {
      "text/plain": [
       "[(26,\n",
       "  '0.008*\"also\" + 0.008*\"life\" + 0.008*\"people\" + 0.007*\"student\" + 0.007*\"day\"'),\n",
       " (63,\n",
       "  '0.013*\"country\" + 0.012*\"people\" + 0.011*\"right\" + 0.010*\"newspaper\" + 0.009*\"one\"'),\n",
       " (55,\n",
       "  '0.032*\"life\" + 0.012*\"country\" + 0.011*\"city\" + 0.009*\"people\" + 0.008*\"soldier\"'),\n",
       " (52,\n",
       "  '0.019*\"country\" + 0.017*\"india\" + 0.016*\"education\" + 0.015*\"school\" + 0.011*\"people\"'),\n",
       " (48,\n",
       "  '0.016*\"people\" + 0.014*\"education\" + 0.013*\"country\" + 0.010*\"india\" + 0.009*\"democracy\"')]"
      ]
     },
     "execution_count": 174,
     "metadata": {},
     "output_type": "execute_result"
    }
   ],
   "source": [
    "model.print_topics(num_topics=5, num_words=5)"
   ]
  },
  {
   "cell_type": "markdown",
   "metadata": {},
   "source": [
    "## Running LDA using Bag of Words"
   ]
  },
  {
   "cell_type": "code",
   "execution_count": 175,
   "metadata": {},
   "outputs": [
    {
     "name": "stdout",
     "output_type": "stream",
     "text": [
      "<gensim.interfaces.TransformedCorpus object at 0x000002663D6775F8>\n"
     ]
    }
   ],
   "source": [
    "tfidf = TfidfModel(df['bow'])\n",
    "td_corpus = tfidf[df['bow']]\n",
    "print(td_corpus)"
   ]
  },
  {
   "cell_type": "code",
   "execution_count": 176,
   "metadata": {},
   "outputs": [],
   "source": [
    "model_tf = LdaModel(td_corpus, id2word=dict_df, num_topics=10)"
   ]
  },
  {
   "cell_type": "code",
   "execution_count": 177,
   "metadata": {},
   "outputs": [
    {
     "data": {
      "text/plain": [
       "[(3,\n",
       "  '0.001*\"science\" + 0.001*\"health\" + 0.001*\"library\" + 0.001*\"money\" + 0.001*\"doctor\"'),\n",
       " (0,\n",
       "  '0.002*\"youth\" + 0.001*\"farmer\" + 0.001*\"technology\" + 0.001*\"science\" + 0.001*\"patriotism\"'),\n",
       " (7,\n",
       "  '0.001*\"communication\" + 0.001*\"freedom\" + 0.001*\"communicate\" + 0.001*\"expression\" + 0.000*\"right\"'),\n",
       " (4,\n",
       "  '0.001*\"education\" + 0.001*\"judiciary\" + 0.001*\"generation\" + 0.001*\"black\" + 0.001*\"gandhi\"'),\n",
       " (6,\n",
       "  '0.002*\"book\" + 0.002*\"reading\" + 0.001*\"knowledge\" + 0.001*\"education\" + 0.001*\"library\"')]"
      ]
     },
     "execution_count": 177,
     "metadata": {},
     "output_type": "execute_result"
    }
   ],
   "source": [
    "model_tf.print_topics(num_topics=5, num_words=5)"
   ]
  },
  {
   "cell_type": "code",
   "execution_count": 178,
   "metadata": {},
   "outputs": [
    {
     "name": "stdout",
     "output_type": "stream",
     "text": [
      "Social media basically means any human communication or sharing information on internet that occurs \n"
     ]
    }
   ],
   "source": [
    "link = essay_links[101]\n",
    "essay_data = urllib.request.urlopen(link)\n",
    "soup = BeautifulSoup(essay_data, 'lxml')\n",
    "#print(soup.title)\n",
    "par = soup.find(name = 'div', attrs=\"post-content entry-content\")\n",
    "paras = par.find_all(name='p')\n",
    "Document_text=''\n",
    "for p in paras:\n",
    "    Document_text+=p.get_text().strip()+' '\n",
    "    s=re.sub('<!--(.*?)-->', '',Document_text )\n",
    "        \n",
    "print(s[:100])"
   ]
  },
  {
   "cell_type": "code",
   "execution_count": 179,
   "metadata": {},
   "outputs": [
    {
     "data": {
      "text/plain": [
       "'social medium basically mean human communication sharing information internet occurs medium computer'"
      ]
     },
     "execution_count": 179,
     "metadata": {},
     "output_type": "execute_result"
    }
   ],
   "source": [
    "clean_test = clean(s)\n",
    "clean_test[:100]"
   ]
  },
  {
   "cell_type": "code",
   "execution_count": 180,
   "metadata": {},
   "outputs": [
    {
     "data": {
      "text/plain": [
       "['social',\n",
       " 'medium',\n",
       " 'basically',\n",
       " 'mean',\n",
       " 'human',\n",
       " 'communication',\n",
       " 'sharing',\n",
       " 'information',\n",
       " 'internet',\n",
       " 'occurs']"
      ]
     },
     "execution_count": 180,
     "metadata": {},
     "output_type": "execute_result"
    }
   ],
   "source": [
    "clean_test_list = clean_test.split()\n",
    "clean_test_list[:10]"
   ]
  },
  {
   "cell_type": "code",
   "execution_count": 182,
   "metadata": {},
   "outputs": [],
   "source": [
    "# taking same dictionary we will create bow\n",
    "bow_test = dict_df.doc2bow(clean_test_list)"
   ]
  },
  {
   "cell_type": "code",
   "execution_count": 197,
   "metadata": {},
   "outputs": [
    {
     "name": "stdout",
     "output_type": "stream",
     "text": [
      "Score:  0.345  Topics:  0.019*\"country\" + 0.017*\"india\" + 0.016*\"education\" + 0.015*\"school\" + 0.011*\"people\"\n",
      "Score:  0.323  Topics:  0.026*\"school\" + 0.010*\"day\" + 0.009*\"life\" + 0.009*\"country\" + 0.008*\"education\"\n",
      "Score:  0.093  Topics:  0.033*\"freedom\" + 0.029*\"right\" + 0.027*\"country\" + 0.024*\"speech\" + 0.015*\"citizen\"\n",
      "Score:  0.056  Topics:  0.028*\"education\" + 0.014*\"people\" + 0.012*\"country\" + 0.011*\"newspaper\" + 0.009*\"life\"\n",
      "Score:  0.055  Topics:  0.012*\"india\" + 0.012*\"youth\" + 0.011*\"people\" + 0.010*\"country\" + 0.009*\"also\"\n",
      "Score:  0.051  Topics:  0.020*\"education\" + 0.016*\"health\" + 0.015*\"country\" + 0.015*\"india\" + 0.014*\"life\"\n",
      "Score:  0.045  Topics:  0.014*\"country\" + 0.013*\"people\" + 0.011*\"india\" + 0.009*\"also\" + 0.008*\"life\"\n",
      "Score:  0.014  Topics:  0.018*\"life\" + 0.014*\"people\" + 0.013*\"country\" + 0.011*\"india\" + 0.010*\"time\"\n"
     ]
    }
   ],
   "source": [
    "# LDA model on BOW\n",
    "#print(sorted(model[bow_test], key=lambda tup: -1*tup[1]))\n",
    "tups= sorted(model[bow_test], key=lambda tup: -1*tup[1])\n",
    "for index, score in tups:\n",
    "    \n",
    "    print('Score: ', round(score, 3), '  Topics: ',model.print_topic(index, topn=5))"
   ]
  },
  {
   "cell_type": "code",
   "execution_count": 198,
   "metadata": {},
   "outputs": [
    {
     "name": "stdout",
     "output_type": "stream",
     "text": [
      "Score:  0.853   Topics:  0.002*\"youth\" + 0.001*\"farmer\" + 0.001*\"technology\" + 0.001*\"science\" + 0.001*\"patriotism\"\n",
      "Score:  0.085   Topics:  0.002*\"book\" + 0.002*\"reading\" + 0.001*\"knowledge\" + 0.001*\"education\" + 0.001*\"library\"\n",
      "Score:  0.031   Topics:  0.003*\"newspaper\" + 0.001*\"privatization\" + 0.001*\"price\" + 0.001*\"campaign\" + 0.001*\"agriculture\"\n",
      "Score:  0.02   Topics:  0.001*\"science\" + 0.001*\"health\" + 0.001*\"library\" + 0.001*\"money\" + 0.001*\"doctor\"\n"
     ]
    }
   ],
   "source": [
    "tups= sorted(model_tf[bow_test], key=lambda tup: -1*tup[1])\n",
    "for index, score in tups:\n",
    "    \n",
    "    print('Score: ', round(score, 3), '  Topics: ',model_tf.print_topic(index, topn=5))"
   ]
  },
  {
   "cell_type": "markdown",
   "metadata": {},
   "source": [
    "## From our model the topic could have words like \n",
    "- youth, farmer, technology, science. patriotism\n",
    "\n",
    "- country, india, education, school, people \n",
    "\n",
    "We will see ourselves now to check to what extent is it correct."
   ]
  },
  {
   "cell_type": "code",
   "execution_count": null,
   "metadata": {},
   "outputs": [],
   "source": []
  }
 ],
 "metadata": {
  "kernelspec": {
   "display_name": "Python 3",
   "language": "python",
   "name": "python3"
  },
  "language_info": {
   "codemirror_mode": {
    "name": "ipython",
    "version": 3
   },
   "file_extension": ".py",
   "mimetype": "text/x-python",
   "name": "python",
   "nbconvert_exporter": "python",
   "pygments_lexer": "ipython3",
   "version": "3.6.4"
  }
 },
 "nbformat": 4,
 "nbformat_minor": 2
}
